{
  "nbformat": 4,
  "nbformat_minor": 0,
  "metadata": {
    "colab": {
      "provenance": []
    },
    "kernelspec": {
      "name": "python3",
      "display_name": "Python 3"
    },
    "language_info": {
      "name": "python"
    }
  },
  "cells": [
    {
      "cell_type": "code",
      "source": [
        "!pip install statsmodels\n",
        "!pip install wquantiles"
      ],
      "metadata": {
        "colab": {
          "base_uri": "https://localhost:8080/"
        },
        "id": "aaFyC-vhwT5t",
        "outputId": "deb88f8a-0cea-43d5-f332-f7600486f4e6"
      },
      "execution_count": 2,
      "outputs": [
        {
          "output_type": "stream",
          "name": "stdout",
          "text": [
            "Requirement already satisfied: statsmodels in /usr/local/lib/python3.11/dist-packages (0.14.4)\n",
            "Requirement already satisfied: numpy<3,>=1.22.3 in /usr/local/lib/python3.11/dist-packages (from statsmodels) (2.0.2)\n",
            "Requirement already satisfied: scipy!=1.9.2,>=1.8 in /usr/local/lib/python3.11/dist-packages (from statsmodels) (1.14.1)\n",
            "Requirement already satisfied: pandas!=2.1.0,>=1.4 in /usr/local/lib/python3.11/dist-packages (from statsmodels) (2.2.2)\n",
            "Requirement already satisfied: patsy>=0.5.6 in /usr/local/lib/python3.11/dist-packages (from statsmodels) (1.0.1)\n",
            "Requirement already satisfied: packaging>=21.3 in /usr/local/lib/python3.11/dist-packages (from statsmodels) (24.2)\n",
            "Requirement already satisfied: python-dateutil>=2.8.2 in /usr/local/lib/python3.11/dist-packages (from pandas!=2.1.0,>=1.4->statsmodels) (2.8.2)\n",
            "Requirement already satisfied: pytz>=2020.1 in /usr/local/lib/python3.11/dist-packages (from pandas!=2.1.0,>=1.4->statsmodels) (2025.1)\n",
            "Requirement already satisfied: tzdata>=2022.7 in /usr/local/lib/python3.11/dist-packages (from pandas!=2.1.0,>=1.4->statsmodels) (2025.1)\n",
            "Requirement already satisfied: six>=1.5 in /usr/local/lib/python3.11/dist-packages (from python-dateutil>=2.8.2->pandas!=2.1.0,>=1.4->statsmodels) (1.17.0)\n",
            "Collecting wquantiles\n",
            "  Downloading wquantiles-0.6-py3-none-any.whl.metadata (1.1 kB)\n",
            "Requirement already satisfied: numpy>=1.18 in /usr/local/lib/python3.11/dist-packages (from wquantiles) (2.0.2)\n",
            "Downloading wquantiles-0.6-py3-none-any.whl (3.3 kB)\n",
            "Installing collected packages: wquantiles\n",
            "Successfully installed wquantiles-0.6\n"
          ]
        }
      ]
    },
    {
      "cell_type": "code",
      "execution_count": 4,
      "metadata": {
        "colab": {
          "base_uri": "https://localhost:8080/"
        },
        "id": "WPjbBjZBwJtr",
        "outputId": "848dcbaa-76e5-4792-f62e-f09b35f4bd82"
      },
      "outputs": [
        {
          "output_type": "stream",
          "name": "stdout",
          "text": [
            "Path to dataset files: /root/.cache/kagglehub/datasets/yasserh/wine-quality-dataset/versions/1\n"
          ]
        }
      ],
      "source": [
        "import kagglehub\n",
        "import os\n",
        "\n",
        "path = kagglehub.dataset_download(\"yasserh/wine-quality-dataset\")\n",
        "\n",
        "print(\"Path to dataset files:\", path)"
      ]
    },
    {
      "cell_type": "code",
      "source": [
        "directory_path = '/root/.cache/kagglehub/datasets/yasserh/wine-quality-dataset/versions/1'\n",
        "files = os.listdir(directory_path)\n",
        "print(files)"
      ],
      "metadata": {
        "colab": {
          "base_uri": "https://localhost:8080/"
        },
        "id": "9ZHpqGx1wyWu",
        "outputId": "624d60cf-a9fe-4440-e156-4067ca047ce6"
      },
      "execution_count": 5,
      "outputs": [
        {
          "output_type": "stream",
          "name": "stdout",
          "text": [
            "['WineQT.csv']\n"
          ]
        }
      ]
    },
    {
      "cell_type": "code",
      "source": [
        "import pandas as pd\n",
        "import numpy as np\n",
        "from scipy.stats import trim_mean\n",
        "from statsmodels import robust\n",
        "import wquantiles\n",
        "import seaborn as sns\n",
        "import matplotlib.pyplot as plt"
      ],
      "metadata": {
        "id": "DWb6k385wbZT"
      },
      "execution_count": 6,
      "outputs": []
    },
    {
      "cell_type": "code",
      "source": [
        "file_path = '/root/.cache/kagglehub/datasets/yasserh/wine-quality-dataset/versions/1/WineQT.csv'\n",
        "\n",
        "df = pd.read_csv(file_path)\n",
        "df"
      ],
      "metadata": {
        "colab": {
          "base_uri": "https://localhost:8080/",
          "height": 424
        },
        "id": "unCN4FhLwfuk",
        "outputId": "3a57e93c-2277-4d8a-86cb-154770558661"
      },
      "execution_count": 7,
      "outputs": [
        {
          "output_type": "execute_result",
          "data": {
            "text/plain": [
              "      fixed acidity  volatile acidity  citric acid  residual sugar  chlorides  \\\n",
              "0               7.4             0.700         0.00             1.9      0.076   \n",
              "1               7.8             0.880         0.00             2.6      0.098   \n",
              "2               7.8             0.760         0.04             2.3      0.092   \n",
              "3              11.2             0.280         0.56             1.9      0.075   \n",
              "4               7.4             0.700         0.00             1.9      0.076   \n",
              "...             ...               ...          ...             ...        ...   \n",
              "1138            6.3             0.510         0.13             2.3      0.076   \n",
              "1139            6.8             0.620         0.08             1.9      0.068   \n",
              "1140            6.2             0.600         0.08             2.0      0.090   \n",
              "1141            5.9             0.550         0.10             2.2      0.062   \n",
              "1142            5.9             0.645         0.12             2.0      0.075   \n",
              "\n",
              "      free sulfur dioxide  total sulfur dioxide  density    pH  sulphates  \\\n",
              "0                    11.0                  34.0  0.99780  3.51       0.56   \n",
              "1                    25.0                  67.0  0.99680  3.20       0.68   \n",
              "2                    15.0                  54.0  0.99700  3.26       0.65   \n",
              "3                    17.0                  60.0  0.99800  3.16       0.58   \n",
              "4                    11.0                  34.0  0.99780  3.51       0.56   \n",
              "...                   ...                   ...      ...   ...        ...   \n",
              "1138                 29.0                  40.0  0.99574  3.42       0.75   \n",
              "1139                 28.0                  38.0  0.99651  3.42       0.82   \n",
              "1140                 32.0                  44.0  0.99490  3.45       0.58   \n",
              "1141                 39.0                  51.0  0.99512  3.52       0.76   \n",
              "1142                 32.0                  44.0  0.99547  3.57       0.71   \n",
              "\n",
              "      alcohol  quality    Id  \n",
              "0         9.4        5     0  \n",
              "1         9.8        5     1  \n",
              "2         9.8        5     2  \n",
              "3         9.8        6     3  \n",
              "4         9.4        5     4  \n",
              "...       ...      ...   ...  \n",
              "1138     11.0        6  1592  \n",
              "1139      9.5        6  1593  \n",
              "1140     10.5        5  1594  \n",
              "1141     11.2        6  1595  \n",
              "1142     10.2        5  1597  \n",
              "\n",
              "[1143 rows x 13 columns]"
            ],
            "text/html": [
              "\n",
              "  <div id=\"df-654e9c5e-53b8-459f-997b-0e2b85732d99\" class=\"colab-df-container\">\n",
              "    <div>\n",
              "<style scoped>\n",
              "    .dataframe tbody tr th:only-of-type {\n",
              "        vertical-align: middle;\n",
              "    }\n",
              "\n",
              "    .dataframe tbody tr th {\n",
              "        vertical-align: top;\n",
              "    }\n",
              "\n",
              "    .dataframe thead th {\n",
              "        text-align: right;\n",
              "    }\n",
              "</style>\n",
              "<table border=\"1\" class=\"dataframe\">\n",
              "  <thead>\n",
              "    <tr style=\"text-align: right;\">\n",
              "      <th></th>\n",
              "      <th>fixed acidity</th>\n",
              "      <th>volatile acidity</th>\n",
              "      <th>citric acid</th>\n",
              "      <th>residual sugar</th>\n",
              "      <th>chlorides</th>\n",
              "      <th>free sulfur dioxide</th>\n",
              "      <th>total sulfur dioxide</th>\n",
              "      <th>density</th>\n",
              "      <th>pH</th>\n",
              "      <th>sulphates</th>\n",
              "      <th>alcohol</th>\n",
              "      <th>quality</th>\n",
              "      <th>Id</th>\n",
              "    </tr>\n",
              "  </thead>\n",
              "  <tbody>\n",
              "    <tr>\n",
              "      <th>0</th>\n",
              "      <td>7.4</td>\n",
              "      <td>0.700</td>\n",
              "      <td>0.00</td>\n",
              "      <td>1.9</td>\n",
              "      <td>0.076</td>\n",
              "      <td>11.0</td>\n",
              "      <td>34.0</td>\n",
              "      <td>0.99780</td>\n",
              "      <td>3.51</td>\n",
              "      <td>0.56</td>\n",
              "      <td>9.4</td>\n",
              "      <td>5</td>\n",
              "      <td>0</td>\n",
              "    </tr>\n",
              "    <tr>\n",
              "      <th>1</th>\n",
              "      <td>7.8</td>\n",
              "      <td>0.880</td>\n",
              "      <td>0.00</td>\n",
              "      <td>2.6</td>\n",
              "      <td>0.098</td>\n",
              "      <td>25.0</td>\n",
              "      <td>67.0</td>\n",
              "      <td>0.99680</td>\n",
              "      <td>3.20</td>\n",
              "      <td>0.68</td>\n",
              "      <td>9.8</td>\n",
              "      <td>5</td>\n",
              "      <td>1</td>\n",
              "    </tr>\n",
              "    <tr>\n",
              "      <th>2</th>\n",
              "      <td>7.8</td>\n",
              "      <td>0.760</td>\n",
              "      <td>0.04</td>\n",
              "      <td>2.3</td>\n",
              "      <td>0.092</td>\n",
              "      <td>15.0</td>\n",
              "      <td>54.0</td>\n",
              "      <td>0.99700</td>\n",
              "      <td>3.26</td>\n",
              "      <td>0.65</td>\n",
              "      <td>9.8</td>\n",
              "      <td>5</td>\n",
              "      <td>2</td>\n",
              "    </tr>\n",
              "    <tr>\n",
              "      <th>3</th>\n",
              "      <td>11.2</td>\n",
              "      <td>0.280</td>\n",
              "      <td>0.56</td>\n",
              "      <td>1.9</td>\n",
              "      <td>0.075</td>\n",
              "      <td>17.0</td>\n",
              "      <td>60.0</td>\n",
              "      <td>0.99800</td>\n",
              "      <td>3.16</td>\n",
              "      <td>0.58</td>\n",
              "      <td>9.8</td>\n",
              "      <td>6</td>\n",
              "      <td>3</td>\n",
              "    </tr>\n",
              "    <tr>\n",
              "      <th>4</th>\n",
              "      <td>7.4</td>\n",
              "      <td>0.700</td>\n",
              "      <td>0.00</td>\n",
              "      <td>1.9</td>\n",
              "      <td>0.076</td>\n",
              "      <td>11.0</td>\n",
              "      <td>34.0</td>\n",
              "      <td>0.99780</td>\n",
              "      <td>3.51</td>\n",
              "      <td>0.56</td>\n",
              "      <td>9.4</td>\n",
              "      <td>5</td>\n",
              "      <td>4</td>\n",
              "    </tr>\n",
              "    <tr>\n",
              "      <th>...</th>\n",
              "      <td>...</td>\n",
              "      <td>...</td>\n",
              "      <td>...</td>\n",
              "      <td>...</td>\n",
              "      <td>...</td>\n",
              "      <td>...</td>\n",
              "      <td>...</td>\n",
              "      <td>...</td>\n",
              "      <td>...</td>\n",
              "      <td>...</td>\n",
              "      <td>...</td>\n",
              "      <td>...</td>\n",
              "      <td>...</td>\n",
              "    </tr>\n",
              "    <tr>\n",
              "      <th>1138</th>\n",
              "      <td>6.3</td>\n",
              "      <td>0.510</td>\n",
              "      <td>0.13</td>\n",
              "      <td>2.3</td>\n",
              "      <td>0.076</td>\n",
              "      <td>29.0</td>\n",
              "      <td>40.0</td>\n",
              "      <td>0.99574</td>\n",
              "      <td>3.42</td>\n",
              "      <td>0.75</td>\n",
              "      <td>11.0</td>\n",
              "      <td>6</td>\n",
              "      <td>1592</td>\n",
              "    </tr>\n",
              "    <tr>\n",
              "      <th>1139</th>\n",
              "      <td>6.8</td>\n",
              "      <td>0.620</td>\n",
              "      <td>0.08</td>\n",
              "      <td>1.9</td>\n",
              "      <td>0.068</td>\n",
              "      <td>28.0</td>\n",
              "      <td>38.0</td>\n",
              "      <td>0.99651</td>\n",
              "      <td>3.42</td>\n",
              "      <td>0.82</td>\n",
              "      <td>9.5</td>\n",
              "      <td>6</td>\n",
              "      <td>1593</td>\n",
              "    </tr>\n",
              "    <tr>\n",
              "      <th>1140</th>\n",
              "      <td>6.2</td>\n",
              "      <td>0.600</td>\n",
              "      <td>0.08</td>\n",
              "      <td>2.0</td>\n",
              "      <td>0.090</td>\n",
              "      <td>32.0</td>\n",
              "      <td>44.0</td>\n",
              "      <td>0.99490</td>\n",
              "      <td>3.45</td>\n",
              "      <td>0.58</td>\n",
              "      <td>10.5</td>\n",
              "      <td>5</td>\n",
              "      <td>1594</td>\n",
              "    </tr>\n",
              "    <tr>\n",
              "      <th>1141</th>\n",
              "      <td>5.9</td>\n",
              "      <td>0.550</td>\n",
              "      <td>0.10</td>\n",
              "      <td>2.2</td>\n",
              "      <td>0.062</td>\n",
              "      <td>39.0</td>\n",
              "      <td>51.0</td>\n",
              "      <td>0.99512</td>\n",
              "      <td>3.52</td>\n",
              "      <td>0.76</td>\n",
              "      <td>11.2</td>\n",
              "      <td>6</td>\n",
              "      <td>1595</td>\n",
              "    </tr>\n",
              "    <tr>\n",
              "      <th>1142</th>\n",
              "      <td>5.9</td>\n",
              "      <td>0.645</td>\n",
              "      <td>0.12</td>\n",
              "      <td>2.0</td>\n",
              "      <td>0.075</td>\n",
              "      <td>32.0</td>\n",
              "      <td>44.0</td>\n",
              "      <td>0.99547</td>\n",
              "      <td>3.57</td>\n",
              "      <td>0.71</td>\n",
              "      <td>10.2</td>\n",
              "      <td>5</td>\n",
              "      <td>1597</td>\n",
              "    </tr>\n",
              "  </tbody>\n",
              "</table>\n",
              "<p>1143 rows × 13 columns</p>\n",
              "</div>\n",
              "    <div class=\"colab-df-buttons\">\n",
              "\n",
              "  <div class=\"colab-df-container\">\n",
              "    <button class=\"colab-df-convert\" onclick=\"convertToInteractive('df-654e9c5e-53b8-459f-997b-0e2b85732d99')\"\n",
              "            title=\"Convert this dataframe to an interactive table.\"\n",
              "            style=\"display:none;\">\n",
              "\n",
              "  <svg xmlns=\"http://www.w3.org/2000/svg\" height=\"24px\" viewBox=\"0 -960 960 960\">\n",
              "    <path d=\"M120-120v-720h720v720H120Zm60-500h600v-160H180v160Zm220 220h160v-160H400v160Zm0 220h160v-160H400v160ZM180-400h160v-160H180v160Zm440 0h160v-160H620v160ZM180-180h160v-160H180v160Zm440 0h160v-160H620v160Z\"/>\n",
              "  </svg>\n",
              "    </button>\n",
              "\n",
              "  <style>\n",
              "    .colab-df-container {\n",
              "      display:flex;\n",
              "      gap: 12px;\n",
              "    }\n",
              "\n",
              "    .colab-df-convert {\n",
              "      background-color: #E8F0FE;\n",
              "      border: none;\n",
              "      border-radius: 50%;\n",
              "      cursor: pointer;\n",
              "      display: none;\n",
              "      fill: #1967D2;\n",
              "      height: 32px;\n",
              "      padding: 0 0 0 0;\n",
              "      width: 32px;\n",
              "    }\n",
              "\n",
              "    .colab-df-convert:hover {\n",
              "      background-color: #E2EBFA;\n",
              "      box-shadow: 0px 1px 2px rgba(60, 64, 67, 0.3), 0px 1px 3px 1px rgba(60, 64, 67, 0.15);\n",
              "      fill: #174EA6;\n",
              "    }\n",
              "\n",
              "    .colab-df-buttons div {\n",
              "      margin-bottom: 4px;\n",
              "    }\n",
              "\n",
              "    [theme=dark] .colab-df-convert {\n",
              "      background-color: #3B4455;\n",
              "      fill: #D2E3FC;\n",
              "    }\n",
              "\n",
              "    [theme=dark] .colab-df-convert:hover {\n",
              "      background-color: #434B5C;\n",
              "      box-shadow: 0px 1px 3px 1px rgba(0, 0, 0, 0.15);\n",
              "      filter: drop-shadow(0px 1px 2px rgba(0, 0, 0, 0.3));\n",
              "      fill: #FFFFFF;\n",
              "    }\n",
              "  </style>\n",
              "\n",
              "    <script>\n",
              "      const buttonEl =\n",
              "        document.querySelector('#df-654e9c5e-53b8-459f-997b-0e2b85732d99 button.colab-df-convert');\n",
              "      buttonEl.style.display =\n",
              "        google.colab.kernel.accessAllowed ? 'block' : 'none';\n",
              "\n",
              "      async function convertToInteractive(key) {\n",
              "        const element = document.querySelector('#df-654e9c5e-53b8-459f-997b-0e2b85732d99');\n",
              "        const dataTable =\n",
              "          await google.colab.kernel.invokeFunction('convertToInteractive',\n",
              "                                                    [key], {});\n",
              "        if (!dataTable) return;\n",
              "\n",
              "        const docLinkHtml = 'Like what you see? Visit the ' +\n",
              "          '<a target=\"_blank\" href=https://colab.research.google.com/notebooks/data_table.ipynb>data table notebook</a>'\n",
              "          + ' to learn more about interactive tables.';\n",
              "        element.innerHTML = '';\n",
              "        dataTable['output_type'] = 'display_data';\n",
              "        await google.colab.output.renderOutput(dataTable, element);\n",
              "        const docLink = document.createElement('div');\n",
              "        docLink.innerHTML = docLinkHtml;\n",
              "        element.appendChild(docLink);\n",
              "      }\n",
              "    </script>\n",
              "  </div>\n",
              "\n",
              "\n",
              "<div id=\"df-63ebda51-dd4c-40a3-b466-c4021eb1d639\">\n",
              "  <button class=\"colab-df-quickchart\" onclick=\"quickchart('df-63ebda51-dd4c-40a3-b466-c4021eb1d639')\"\n",
              "            title=\"Suggest charts\"\n",
              "            style=\"display:none;\">\n",
              "\n",
              "<svg xmlns=\"http://www.w3.org/2000/svg\" height=\"24px\"viewBox=\"0 0 24 24\"\n",
              "     width=\"24px\">\n",
              "    <g>\n",
              "        <path d=\"M19 3H5c-1.1 0-2 .9-2 2v14c0 1.1.9 2 2 2h14c1.1 0 2-.9 2-2V5c0-1.1-.9-2-2-2zM9 17H7v-7h2v7zm4 0h-2V7h2v10zm4 0h-2v-4h2v4z\"/>\n",
              "    </g>\n",
              "</svg>\n",
              "  </button>\n",
              "\n",
              "<style>\n",
              "  .colab-df-quickchart {\n",
              "      --bg-color: #E8F0FE;\n",
              "      --fill-color: #1967D2;\n",
              "      --hover-bg-color: #E2EBFA;\n",
              "      --hover-fill-color: #174EA6;\n",
              "      --disabled-fill-color: #AAA;\n",
              "      --disabled-bg-color: #DDD;\n",
              "  }\n",
              "\n",
              "  [theme=dark] .colab-df-quickchart {\n",
              "      --bg-color: #3B4455;\n",
              "      --fill-color: #D2E3FC;\n",
              "      --hover-bg-color: #434B5C;\n",
              "      --hover-fill-color: #FFFFFF;\n",
              "      --disabled-bg-color: #3B4455;\n",
              "      --disabled-fill-color: #666;\n",
              "  }\n",
              "\n",
              "  .colab-df-quickchart {\n",
              "    background-color: var(--bg-color);\n",
              "    border: none;\n",
              "    border-radius: 50%;\n",
              "    cursor: pointer;\n",
              "    display: none;\n",
              "    fill: var(--fill-color);\n",
              "    height: 32px;\n",
              "    padding: 0;\n",
              "    width: 32px;\n",
              "  }\n",
              "\n",
              "  .colab-df-quickchart:hover {\n",
              "    background-color: var(--hover-bg-color);\n",
              "    box-shadow: 0 1px 2px rgba(60, 64, 67, 0.3), 0 1px 3px 1px rgba(60, 64, 67, 0.15);\n",
              "    fill: var(--button-hover-fill-color);\n",
              "  }\n",
              "\n",
              "  .colab-df-quickchart-complete:disabled,\n",
              "  .colab-df-quickchart-complete:disabled:hover {\n",
              "    background-color: var(--disabled-bg-color);\n",
              "    fill: var(--disabled-fill-color);\n",
              "    box-shadow: none;\n",
              "  }\n",
              "\n",
              "  .colab-df-spinner {\n",
              "    border: 2px solid var(--fill-color);\n",
              "    border-color: transparent;\n",
              "    border-bottom-color: var(--fill-color);\n",
              "    animation:\n",
              "      spin 1s steps(1) infinite;\n",
              "  }\n",
              "\n",
              "  @keyframes spin {\n",
              "    0% {\n",
              "      border-color: transparent;\n",
              "      border-bottom-color: var(--fill-color);\n",
              "      border-left-color: var(--fill-color);\n",
              "    }\n",
              "    20% {\n",
              "      border-color: transparent;\n",
              "      border-left-color: var(--fill-color);\n",
              "      border-top-color: var(--fill-color);\n",
              "    }\n",
              "    30% {\n",
              "      border-color: transparent;\n",
              "      border-left-color: var(--fill-color);\n",
              "      border-top-color: var(--fill-color);\n",
              "      border-right-color: var(--fill-color);\n",
              "    }\n",
              "    40% {\n",
              "      border-color: transparent;\n",
              "      border-right-color: var(--fill-color);\n",
              "      border-top-color: var(--fill-color);\n",
              "    }\n",
              "    60% {\n",
              "      border-color: transparent;\n",
              "      border-right-color: var(--fill-color);\n",
              "    }\n",
              "    80% {\n",
              "      border-color: transparent;\n",
              "      border-right-color: var(--fill-color);\n",
              "      border-bottom-color: var(--fill-color);\n",
              "    }\n",
              "    90% {\n",
              "      border-color: transparent;\n",
              "      border-bottom-color: var(--fill-color);\n",
              "    }\n",
              "  }\n",
              "</style>\n",
              "\n",
              "  <script>\n",
              "    async function quickchart(key) {\n",
              "      const quickchartButtonEl =\n",
              "        document.querySelector('#' + key + ' button');\n",
              "      quickchartButtonEl.disabled = true;  // To prevent multiple clicks.\n",
              "      quickchartButtonEl.classList.add('colab-df-spinner');\n",
              "      try {\n",
              "        const charts = await google.colab.kernel.invokeFunction(\n",
              "            'suggestCharts', [key], {});\n",
              "      } catch (error) {\n",
              "        console.error('Error during call to suggestCharts:', error);\n",
              "      }\n",
              "      quickchartButtonEl.classList.remove('colab-df-spinner');\n",
              "      quickchartButtonEl.classList.add('colab-df-quickchart-complete');\n",
              "    }\n",
              "    (() => {\n",
              "      let quickchartButtonEl =\n",
              "        document.querySelector('#df-63ebda51-dd4c-40a3-b466-c4021eb1d639 button');\n",
              "      quickchartButtonEl.style.display =\n",
              "        google.colab.kernel.accessAllowed ? 'block' : 'none';\n",
              "    })();\n",
              "  </script>\n",
              "</div>\n",
              "\n",
              "  <div id=\"id_f3bd01a8-c9d2-400f-b9f1-dc6bd753a6c1\">\n",
              "    <style>\n",
              "      .colab-df-generate {\n",
              "        background-color: #E8F0FE;\n",
              "        border: none;\n",
              "        border-radius: 50%;\n",
              "        cursor: pointer;\n",
              "        display: none;\n",
              "        fill: #1967D2;\n",
              "        height: 32px;\n",
              "        padding: 0 0 0 0;\n",
              "        width: 32px;\n",
              "      }\n",
              "\n",
              "      .colab-df-generate:hover {\n",
              "        background-color: #E2EBFA;\n",
              "        box-shadow: 0px 1px 2px rgba(60, 64, 67, 0.3), 0px 1px 3px 1px rgba(60, 64, 67, 0.15);\n",
              "        fill: #174EA6;\n",
              "      }\n",
              "\n",
              "      [theme=dark] .colab-df-generate {\n",
              "        background-color: #3B4455;\n",
              "        fill: #D2E3FC;\n",
              "      }\n",
              "\n",
              "      [theme=dark] .colab-df-generate:hover {\n",
              "        background-color: #434B5C;\n",
              "        box-shadow: 0px 1px 3px 1px rgba(0, 0, 0, 0.15);\n",
              "        filter: drop-shadow(0px 1px 2px rgba(0, 0, 0, 0.3));\n",
              "        fill: #FFFFFF;\n",
              "      }\n",
              "    </style>\n",
              "    <button class=\"colab-df-generate\" onclick=\"generateWithVariable('df')\"\n",
              "            title=\"Generate code using this dataframe.\"\n",
              "            style=\"display:none;\">\n",
              "\n",
              "  <svg xmlns=\"http://www.w3.org/2000/svg\" height=\"24px\"viewBox=\"0 0 24 24\"\n",
              "       width=\"24px\">\n",
              "    <path d=\"M7,19H8.4L18.45,9,17,7.55,7,17.6ZM5,21V16.75L18.45,3.32a2,2,0,0,1,2.83,0l1.4,1.43a1.91,1.91,0,0,1,.58,1.4,1.91,1.91,0,0,1-.58,1.4L9.25,21ZM18.45,9,17,7.55Zm-12,3A5.31,5.31,0,0,0,4.9,8.1,5.31,5.31,0,0,0,1,6.5,5.31,5.31,0,0,0,4.9,4.9,5.31,5.31,0,0,0,6.5,1,5.31,5.31,0,0,0,8.1,4.9,5.31,5.31,0,0,0,12,6.5,5.46,5.46,0,0,0,6.5,12Z\"/>\n",
              "  </svg>\n",
              "    </button>\n",
              "    <script>\n",
              "      (() => {\n",
              "      const buttonEl =\n",
              "        document.querySelector('#id_f3bd01a8-c9d2-400f-b9f1-dc6bd753a6c1 button.colab-df-generate');\n",
              "      buttonEl.style.display =\n",
              "        google.colab.kernel.accessAllowed ? 'block' : 'none';\n",
              "\n",
              "      buttonEl.onclick = () => {\n",
              "        google.colab.notebook.generateWithVariable('df');\n",
              "      }\n",
              "      })();\n",
              "    </script>\n",
              "  </div>\n",
              "\n",
              "    </div>\n",
              "  </div>\n"
            ],
            "application/vnd.google.colaboratory.intrinsic+json": {
              "type": "dataframe",
              "variable_name": "df",
              "summary": "{\n  \"name\": \"df\",\n  \"rows\": 1143,\n  \"fields\": [\n    {\n      \"column\": \"fixed acidity\",\n      \"properties\": {\n        \"dtype\": \"number\",\n        \"std\": 1.747595017169539,\n        \"min\": 4.6,\n        \"max\": 15.9,\n        \"num_unique_values\": 91,\n        \"samples\": [\n          9.7,\n          7.0,\n          9.0\n        ],\n        \"semantic_type\": \"\",\n        \"description\": \"\"\n      }\n    },\n    {\n      \"column\": \"volatile acidity\",\n      \"properties\": {\n        \"dtype\": \"number\",\n        \"std\": 0.17963319302252445,\n        \"min\": 0.12,\n        \"max\": 1.58,\n        \"num_unique_values\": 135,\n        \"samples\": [\n          0.715,\n          0.48,\n          0.92\n        ],\n        \"semantic_type\": \"\",\n        \"description\": \"\"\n      }\n    },\n    {\n      \"column\": \"citric acid\",\n      \"properties\": {\n        \"dtype\": \"number\",\n        \"std\": 0.1966858523482191,\n        \"min\": 0.0,\n        \"max\": 1.0,\n        \"num_unique_values\": 77,\n        \"samples\": [\n          0.02,\n          0.19,\n          0.11\n        ],\n        \"semantic_type\": \"\",\n        \"description\": \"\"\n      }\n    },\n    {\n      \"column\": \"residual sugar\",\n      \"properties\": {\n        \"dtype\": \"number\",\n        \"std\": 1.355917466682676,\n        \"min\": 0.9,\n        \"max\": 15.5,\n        \"num_unique_values\": 80,\n        \"samples\": [\n          4.0,\n          1.9,\n          7.2\n        ],\n        \"semantic_type\": \"\",\n        \"description\": \"\"\n      }\n    },\n    {\n      \"column\": \"chlorides\",\n      \"properties\": {\n        \"dtype\": \"number\",\n        \"std\": 0.04726733795238058,\n        \"min\": 0.012,\n        \"max\": 0.611,\n        \"num_unique_values\": 131,\n        \"samples\": [\n          0.061,\n          0.119,\n          0.066\n        ],\n        \"semantic_type\": \"\",\n        \"description\": \"\"\n      }\n    },\n    {\n      \"column\": \"free sulfur dioxide\",\n      \"properties\": {\n        \"dtype\": \"number\",\n        \"std\": 10.25048612343082,\n        \"min\": 1.0,\n        \"max\": 68.0,\n        \"num_unique_values\": 53,\n        \"samples\": [\n          30.0,\n          46.0,\n          40.0\n        ],\n        \"semantic_type\": \"\",\n        \"description\": \"\"\n      }\n    },\n    {\n      \"column\": \"total sulfur dioxide\",\n      \"properties\": {\n        \"dtype\": \"number\",\n        \"std\": 32.782130307343124,\n        \"min\": 6.0,\n        \"max\": 289.0,\n        \"num_unique_values\": 138,\n        \"samples\": [\n          70.0,\n          91.0,\n          71.0\n        ],\n        \"semantic_type\": \"\",\n        \"description\": \"\"\n      }\n    },\n    {\n      \"column\": \"density\",\n      \"properties\": {\n        \"dtype\": \"number\",\n        \"std\": 0.0019250671302545707,\n        \"min\": 0.99007,\n        \"max\": 1.00369,\n        \"num_unique_values\": 388,\n        \"samples\": [\n          0.99434,\n          0.9927,\n          0.99528\n        ],\n        \"semantic_type\": \"\",\n        \"description\": \"\"\n      }\n    },\n    {\n      \"column\": \"pH\",\n      \"properties\": {\n        \"dtype\": \"number\",\n        \"std\": 0.15666405977275222,\n        \"min\": 2.74,\n        \"max\": 4.01,\n        \"num_unique_values\": 87,\n        \"samples\": [\n          2.92,\n          3.51,\n          3.44\n        ],\n        \"semantic_type\": \"\",\n        \"description\": \"\"\n      }\n    },\n    {\n      \"column\": \"sulphates\",\n      \"properties\": {\n        \"dtype\": \"number\",\n        \"std\": 0.1703987144670742,\n        \"min\": 0.33,\n        \"max\": 2.0,\n        \"num_unique_values\": 89,\n        \"samples\": [\n          0.72,\n          1.61,\n          1.12\n        ],\n        \"semantic_type\": \"\",\n        \"description\": \"\"\n      }\n    },\n    {\n      \"column\": \"alcohol\",\n      \"properties\": {\n        \"dtype\": \"number\",\n        \"std\": 1.0821956098764456,\n        \"min\": 8.4,\n        \"max\": 14.9,\n        \"num_unique_values\": 61,\n        \"samples\": [\n          9.4,\n          9.9,\n          12.7\n        ],\n        \"semantic_type\": \"\",\n        \"description\": \"\"\n      }\n    },\n    {\n      \"column\": \"quality\",\n      \"properties\": {\n        \"dtype\": \"number\",\n        \"std\": 0,\n        \"min\": 3,\n        \"max\": 8,\n        \"num_unique_values\": 6,\n        \"samples\": [\n          5,\n          6,\n          3\n        ],\n        \"semantic_type\": \"\",\n        \"description\": \"\"\n      }\n    },\n    {\n      \"column\": \"Id\",\n      \"properties\": {\n        \"dtype\": \"number\",\n        \"std\": 463,\n        \"min\": 0,\n        \"max\": 1597,\n        \"num_unique_values\": 1143,\n        \"samples\": [\n          222,\n          1514,\n          417\n        ],\n        \"semantic_type\": \"\",\n        \"description\": \"\"\n      }\n    }\n  ]\n}"
            }
          },
          "metadata": {},
          "execution_count": 7
        }
      ]
    },
    {
      "cell_type": "code",
      "source": [
        "df.info()"
      ],
      "metadata": {
        "colab": {
          "base_uri": "https://localhost:8080/"
        },
        "id": "rxwzOqWNwj5z",
        "outputId": "5224b91a-0087-4894-f439-8a46695db065"
      },
      "execution_count": 8,
      "outputs": [
        {
          "output_type": "stream",
          "name": "stdout",
          "text": [
            "<class 'pandas.core.frame.DataFrame'>\n",
            "RangeIndex: 1143 entries, 0 to 1142\n",
            "Data columns (total 13 columns):\n",
            " #   Column                Non-Null Count  Dtype  \n",
            "---  ------                --------------  -----  \n",
            " 0   fixed acidity         1143 non-null   float64\n",
            " 1   volatile acidity      1143 non-null   float64\n",
            " 2   citric acid           1143 non-null   float64\n",
            " 3   residual sugar        1143 non-null   float64\n",
            " 4   chlorides             1143 non-null   float64\n",
            " 5   free sulfur dioxide   1143 non-null   float64\n",
            " 6   total sulfur dioxide  1143 non-null   float64\n",
            " 7   density               1143 non-null   float64\n",
            " 8   pH                    1143 non-null   float64\n",
            " 9   sulphates             1143 non-null   float64\n",
            " 10  alcohol               1143 non-null   float64\n",
            " 11  quality               1143 non-null   int64  \n",
            " 12  Id                    1143 non-null   int64  \n",
            "dtypes: float64(11), int64(2)\n",
            "memory usage: 116.2 KB\n"
          ]
        }
      ]
    },
    {
      "cell_type": "code",
      "source": [
        "df.describe()"
      ],
      "metadata": {
        "colab": {
          "base_uri": "https://localhost:8080/",
          "height": 318
        },
        "id": "GzzqJDOdxLvz",
        "outputId": "c79f5551-9bb1-401e-d0fb-2d21b4872fd1"
      },
      "execution_count": 9,
      "outputs": [
        {
          "output_type": "execute_result",
          "data": {
            "text/plain": [
              "       fixed acidity  volatile acidity  citric acid  residual sugar  \\\n",
              "count    1143.000000       1143.000000  1143.000000     1143.000000   \n",
              "mean        8.311111          0.531339     0.268364        2.532152   \n",
              "std         1.747595          0.179633     0.196686        1.355917   \n",
              "min         4.600000          0.120000     0.000000        0.900000   \n",
              "25%         7.100000          0.392500     0.090000        1.900000   \n",
              "50%         7.900000          0.520000     0.250000        2.200000   \n",
              "75%         9.100000          0.640000     0.420000        2.600000   \n",
              "max        15.900000          1.580000     1.000000       15.500000   \n",
              "\n",
              "         chlorides  free sulfur dioxide  total sulfur dioxide      density  \\\n",
              "count  1143.000000          1143.000000           1143.000000  1143.000000   \n",
              "mean      0.086933            15.615486             45.914698     0.996730   \n",
              "std       0.047267            10.250486             32.782130     0.001925   \n",
              "min       0.012000             1.000000              6.000000     0.990070   \n",
              "25%       0.070000             7.000000             21.000000     0.995570   \n",
              "50%       0.079000            13.000000             37.000000     0.996680   \n",
              "75%       0.090000            21.000000             61.000000     0.997845   \n",
              "max       0.611000            68.000000            289.000000     1.003690   \n",
              "\n",
              "                pH    sulphates      alcohol      quality           Id  \n",
              "count  1143.000000  1143.000000  1143.000000  1143.000000  1143.000000  \n",
              "mean      3.311015     0.657708    10.442111     5.657043   804.969379  \n",
              "std       0.156664     0.170399     1.082196     0.805824   463.997116  \n",
              "min       2.740000     0.330000     8.400000     3.000000     0.000000  \n",
              "25%       3.205000     0.550000     9.500000     5.000000   411.000000  \n",
              "50%       3.310000     0.620000    10.200000     6.000000   794.000000  \n",
              "75%       3.400000     0.730000    11.100000     6.000000  1209.500000  \n",
              "max       4.010000     2.000000    14.900000     8.000000  1597.000000  "
            ],
            "text/html": [
              "\n",
              "  <div id=\"df-6a364038-094e-4d60-9305-1c3ef88e60e7\" class=\"colab-df-container\">\n",
              "    <div>\n",
              "<style scoped>\n",
              "    .dataframe tbody tr th:only-of-type {\n",
              "        vertical-align: middle;\n",
              "    }\n",
              "\n",
              "    .dataframe tbody tr th {\n",
              "        vertical-align: top;\n",
              "    }\n",
              "\n",
              "    .dataframe thead th {\n",
              "        text-align: right;\n",
              "    }\n",
              "</style>\n",
              "<table border=\"1\" class=\"dataframe\">\n",
              "  <thead>\n",
              "    <tr style=\"text-align: right;\">\n",
              "      <th></th>\n",
              "      <th>fixed acidity</th>\n",
              "      <th>volatile acidity</th>\n",
              "      <th>citric acid</th>\n",
              "      <th>residual sugar</th>\n",
              "      <th>chlorides</th>\n",
              "      <th>free sulfur dioxide</th>\n",
              "      <th>total sulfur dioxide</th>\n",
              "      <th>density</th>\n",
              "      <th>pH</th>\n",
              "      <th>sulphates</th>\n",
              "      <th>alcohol</th>\n",
              "      <th>quality</th>\n",
              "      <th>Id</th>\n",
              "    </tr>\n",
              "  </thead>\n",
              "  <tbody>\n",
              "    <tr>\n",
              "      <th>count</th>\n",
              "      <td>1143.000000</td>\n",
              "      <td>1143.000000</td>\n",
              "      <td>1143.000000</td>\n",
              "      <td>1143.000000</td>\n",
              "      <td>1143.000000</td>\n",
              "      <td>1143.000000</td>\n",
              "      <td>1143.000000</td>\n",
              "      <td>1143.000000</td>\n",
              "      <td>1143.000000</td>\n",
              "      <td>1143.000000</td>\n",
              "      <td>1143.000000</td>\n",
              "      <td>1143.000000</td>\n",
              "      <td>1143.000000</td>\n",
              "    </tr>\n",
              "    <tr>\n",
              "      <th>mean</th>\n",
              "      <td>8.311111</td>\n",
              "      <td>0.531339</td>\n",
              "      <td>0.268364</td>\n",
              "      <td>2.532152</td>\n",
              "      <td>0.086933</td>\n",
              "      <td>15.615486</td>\n",
              "      <td>45.914698</td>\n",
              "      <td>0.996730</td>\n",
              "      <td>3.311015</td>\n",
              "      <td>0.657708</td>\n",
              "      <td>10.442111</td>\n",
              "      <td>5.657043</td>\n",
              "      <td>804.969379</td>\n",
              "    </tr>\n",
              "    <tr>\n",
              "      <th>std</th>\n",
              "      <td>1.747595</td>\n",
              "      <td>0.179633</td>\n",
              "      <td>0.196686</td>\n",
              "      <td>1.355917</td>\n",
              "      <td>0.047267</td>\n",
              "      <td>10.250486</td>\n",
              "      <td>32.782130</td>\n",
              "      <td>0.001925</td>\n",
              "      <td>0.156664</td>\n",
              "      <td>0.170399</td>\n",
              "      <td>1.082196</td>\n",
              "      <td>0.805824</td>\n",
              "      <td>463.997116</td>\n",
              "    </tr>\n",
              "    <tr>\n",
              "      <th>min</th>\n",
              "      <td>4.600000</td>\n",
              "      <td>0.120000</td>\n",
              "      <td>0.000000</td>\n",
              "      <td>0.900000</td>\n",
              "      <td>0.012000</td>\n",
              "      <td>1.000000</td>\n",
              "      <td>6.000000</td>\n",
              "      <td>0.990070</td>\n",
              "      <td>2.740000</td>\n",
              "      <td>0.330000</td>\n",
              "      <td>8.400000</td>\n",
              "      <td>3.000000</td>\n",
              "      <td>0.000000</td>\n",
              "    </tr>\n",
              "    <tr>\n",
              "      <th>25%</th>\n",
              "      <td>7.100000</td>\n",
              "      <td>0.392500</td>\n",
              "      <td>0.090000</td>\n",
              "      <td>1.900000</td>\n",
              "      <td>0.070000</td>\n",
              "      <td>7.000000</td>\n",
              "      <td>21.000000</td>\n",
              "      <td>0.995570</td>\n",
              "      <td>3.205000</td>\n",
              "      <td>0.550000</td>\n",
              "      <td>9.500000</td>\n",
              "      <td>5.000000</td>\n",
              "      <td>411.000000</td>\n",
              "    </tr>\n",
              "    <tr>\n",
              "      <th>50%</th>\n",
              "      <td>7.900000</td>\n",
              "      <td>0.520000</td>\n",
              "      <td>0.250000</td>\n",
              "      <td>2.200000</td>\n",
              "      <td>0.079000</td>\n",
              "      <td>13.000000</td>\n",
              "      <td>37.000000</td>\n",
              "      <td>0.996680</td>\n",
              "      <td>3.310000</td>\n",
              "      <td>0.620000</td>\n",
              "      <td>10.200000</td>\n",
              "      <td>6.000000</td>\n",
              "      <td>794.000000</td>\n",
              "    </tr>\n",
              "    <tr>\n",
              "      <th>75%</th>\n",
              "      <td>9.100000</td>\n",
              "      <td>0.640000</td>\n",
              "      <td>0.420000</td>\n",
              "      <td>2.600000</td>\n",
              "      <td>0.090000</td>\n",
              "      <td>21.000000</td>\n",
              "      <td>61.000000</td>\n",
              "      <td>0.997845</td>\n",
              "      <td>3.400000</td>\n",
              "      <td>0.730000</td>\n",
              "      <td>11.100000</td>\n",
              "      <td>6.000000</td>\n",
              "      <td>1209.500000</td>\n",
              "    </tr>\n",
              "    <tr>\n",
              "      <th>max</th>\n",
              "      <td>15.900000</td>\n",
              "      <td>1.580000</td>\n",
              "      <td>1.000000</td>\n",
              "      <td>15.500000</td>\n",
              "      <td>0.611000</td>\n",
              "      <td>68.000000</td>\n",
              "      <td>289.000000</td>\n",
              "      <td>1.003690</td>\n",
              "      <td>4.010000</td>\n",
              "      <td>2.000000</td>\n",
              "      <td>14.900000</td>\n",
              "      <td>8.000000</td>\n",
              "      <td>1597.000000</td>\n",
              "    </tr>\n",
              "  </tbody>\n",
              "</table>\n",
              "</div>\n",
              "    <div class=\"colab-df-buttons\">\n",
              "\n",
              "  <div class=\"colab-df-container\">\n",
              "    <button class=\"colab-df-convert\" onclick=\"convertToInteractive('df-6a364038-094e-4d60-9305-1c3ef88e60e7')\"\n",
              "            title=\"Convert this dataframe to an interactive table.\"\n",
              "            style=\"display:none;\">\n",
              "\n",
              "  <svg xmlns=\"http://www.w3.org/2000/svg\" height=\"24px\" viewBox=\"0 -960 960 960\">\n",
              "    <path d=\"M120-120v-720h720v720H120Zm60-500h600v-160H180v160Zm220 220h160v-160H400v160Zm0 220h160v-160H400v160ZM180-400h160v-160H180v160Zm440 0h160v-160H620v160ZM180-180h160v-160H180v160Zm440 0h160v-160H620v160Z\"/>\n",
              "  </svg>\n",
              "    </button>\n",
              "\n",
              "  <style>\n",
              "    .colab-df-container {\n",
              "      display:flex;\n",
              "      gap: 12px;\n",
              "    }\n",
              "\n",
              "    .colab-df-convert {\n",
              "      background-color: #E8F0FE;\n",
              "      border: none;\n",
              "      border-radius: 50%;\n",
              "      cursor: pointer;\n",
              "      display: none;\n",
              "      fill: #1967D2;\n",
              "      height: 32px;\n",
              "      padding: 0 0 0 0;\n",
              "      width: 32px;\n",
              "    }\n",
              "\n",
              "    .colab-df-convert:hover {\n",
              "      background-color: #E2EBFA;\n",
              "      box-shadow: 0px 1px 2px rgba(60, 64, 67, 0.3), 0px 1px 3px 1px rgba(60, 64, 67, 0.15);\n",
              "      fill: #174EA6;\n",
              "    }\n",
              "\n",
              "    .colab-df-buttons div {\n",
              "      margin-bottom: 4px;\n",
              "    }\n",
              "\n",
              "    [theme=dark] .colab-df-convert {\n",
              "      background-color: #3B4455;\n",
              "      fill: #D2E3FC;\n",
              "    }\n",
              "\n",
              "    [theme=dark] .colab-df-convert:hover {\n",
              "      background-color: #434B5C;\n",
              "      box-shadow: 0px 1px 3px 1px rgba(0, 0, 0, 0.15);\n",
              "      filter: drop-shadow(0px 1px 2px rgba(0, 0, 0, 0.3));\n",
              "      fill: #FFFFFF;\n",
              "    }\n",
              "  </style>\n",
              "\n",
              "    <script>\n",
              "      const buttonEl =\n",
              "        document.querySelector('#df-6a364038-094e-4d60-9305-1c3ef88e60e7 button.colab-df-convert');\n",
              "      buttonEl.style.display =\n",
              "        google.colab.kernel.accessAllowed ? 'block' : 'none';\n",
              "\n",
              "      async function convertToInteractive(key) {\n",
              "        const element = document.querySelector('#df-6a364038-094e-4d60-9305-1c3ef88e60e7');\n",
              "        const dataTable =\n",
              "          await google.colab.kernel.invokeFunction('convertToInteractive',\n",
              "                                                    [key], {});\n",
              "        if (!dataTable) return;\n",
              "\n",
              "        const docLinkHtml = 'Like what you see? Visit the ' +\n",
              "          '<a target=\"_blank\" href=https://colab.research.google.com/notebooks/data_table.ipynb>data table notebook</a>'\n",
              "          + ' to learn more about interactive tables.';\n",
              "        element.innerHTML = '';\n",
              "        dataTable['output_type'] = 'display_data';\n",
              "        await google.colab.output.renderOutput(dataTable, element);\n",
              "        const docLink = document.createElement('div');\n",
              "        docLink.innerHTML = docLinkHtml;\n",
              "        element.appendChild(docLink);\n",
              "      }\n",
              "    </script>\n",
              "  </div>\n",
              "\n",
              "\n",
              "<div id=\"df-c0b44caf-45e0-43f2-9a9b-a8f5a2dd4ffc\">\n",
              "  <button class=\"colab-df-quickchart\" onclick=\"quickchart('df-c0b44caf-45e0-43f2-9a9b-a8f5a2dd4ffc')\"\n",
              "            title=\"Suggest charts\"\n",
              "            style=\"display:none;\">\n",
              "\n",
              "<svg xmlns=\"http://www.w3.org/2000/svg\" height=\"24px\"viewBox=\"0 0 24 24\"\n",
              "     width=\"24px\">\n",
              "    <g>\n",
              "        <path d=\"M19 3H5c-1.1 0-2 .9-2 2v14c0 1.1.9 2 2 2h14c1.1 0 2-.9 2-2V5c0-1.1-.9-2-2-2zM9 17H7v-7h2v7zm4 0h-2V7h2v10zm4 0h-2v-4h2v4z\"/>\n",
              "    </g>\n",
              "</svg>\n",
              "  </button>\n",
              "\n",
              "<style>\n",
              "  .colab-df-quickchart {\n",
              "      --bg-color: #E8F0FE;\n",
              "      --fill-color: #1967D2;\n",
              "      --hover-bg-color: #E2EBFA;\n",
              "      --hover-fill-color: #174EA6;\n",
              "      --disabled-fill-color: #AAA;\n",
              "      --disabled-bg-color: #DDD;\n",
              "  }\n",
              "\n",
              "  [theme=dark] .colab-df-quickchart {\n",
              "      --bg-color: #3B4455;\n",
              "      --fill-color: #D2E3FC;\n",
              "      --hover-bg-color: #434B5C;\n",
              "      --hover-fill-color: #FFFFFF;\n",
              "      --disabled-bg-color: #3B4455;\n",
              "      --disabled-fill-color: #666;\n",
              "  }\n",
              "\n",
              "  .colab-df-quickchart {\n",
              "    background-color: var(--bg-color);\n",
              "    border: none;\n",
              "    border-radius: 50%;\n",
              "    cursor: pointer;\n",
              "    display: none;\n",
              "    fill: var(--fill-color);\n",
              "    height: 32px;\n",
              "    padding: 0;\n",
              "    width: 32px;\n",
              "  }\n",
              "\n",
              "  .colab-df-quickchart:hover {\n",
              "    background-color: var(--hover-bg-color);\n",
              "    box-shadow: 0 1px 2px rgba(60, 64, 67, 0.3), 0 1px 3px 1px rgba(60, 64, 67, 0.15);\n",
              "    fill: var(--button-hover-fill-color);\n",
              "  }\n",
              "\n",
              "  .colab-df-quickchart-complete:disabled,\n",
              "  .colab-df-quickchart-complete:disabled:hover {\n",
              "    background-color: var(--disabled-bg-color);\n",
              "    fill: var(--disabled-fill-color);\n",
              "    box-shadow: none;\n",
              "  }\n",
              "\n",
              "  .colab-df-spinner {\n",
              "    border: 2px solid var(--fill-color);\n",
              "    border-color: transparent;\n",
              "    border-bottom-color: var(--fill-color);\n",
              "    animation:\n",
              "      spin 1s steps(1) infinite;\n",
              "  }\n",
              "\n",
              "  @keyframes spin {\n",
              "    0% {\n",
              "      border-color: transparent;\n",
              "      border-bottom-color: var(--fill-color);\n",
              "      border-left-color: var(--fill-color);\n",
              "    }\n",
              "    20% {\n",
              "      border-color: transparent;\n",
              "      border-left-color: var(--fill-color);\n",
              "      border-top-color: var(--fill-color);\n",
              "    }\n",
              "    30% {\n",
              "      border-color: transparent;\n",
              "      border-left-color: var(--fill-color);\n",
              "      border-top-color: var(--fill-color);\n",
              "      border-right-color: var(--fill-color);\n",
              "    }\n",
              "    40% {\n",
              "      border-color: transparent;\n",
              "      border-right-color: var(--fill-color);\n",
              "      border-top-color: var(--fill-color);\n",
              "    }\n",
              "    60% {\n",
              "      border-color: transparent;\n",
              "      border-right-color: var(--fill-color);\n",
              "    }\n",
              "    80% {\n",
              "      border-color: transparent;\n",
              "      border-right-color: var(--fill-color);\n",
              "      border-bottom-color: var(--fill-color);\n",
              "    }\n",
              "    90% {\n",
              "      border-color: transparent;\n",
              "      border-bottom-color: var(--fill-color);\n",
              "    }\n",
              "  }\n",
              "</style>\n",
              "\n",
              "  <script>\n",
              "    async function quickchart(key) {\n",
              "      const quickchartButtonEl =\n",
              "        document.querySelector('#' + key + ' button');\n",
              "      quickchartButtonEl.disabled = true;  // To prevent multiple clicks.\n",
              "      quickchartButtonEl.classList.add('colab-df-spinner');\n",
              "      try {\n",
              "        const charts = await google.colab.kernel.invokeFunction(\n",
              "            'suggestCharts', [key], {});\n",
              "      } catch (error) {\n",
              "        console.error('Error during call to suggestCharts:', error);\n",
              "      }\n",
              "      quickchartButtonEl.classList.remove('colab-df-spinner');\n",
              "      quickchartButtonEl.classList.add('colab-df-quickchart-complete');\n",
              "    }\n",
              "    (() => {\n",
              "      let quickchartButtonEl =\n",
              "        document.querySelector('#df-c0b44caf-45e0-43f2-9a9b-a8f5a2dd4ffc button');\n",
              "      quickchartButtonEl.style.display =\n",
              "        google.colab.kernel.accessAllowed ? 'block' : 'none';\n",
              "    })();\n",
              "  </script>\n",
              "</div>\n",
              "\n",
              "    </div>\n",
              "  </div>\n"
            ],
            "application/vnd.google.colaboratory.intrinsic+json": {
              "type": "dataframe",
              "summary": "{\n  \"name\": \"df\",\n  \"rows\": 8,\n  \"fields\": [\n    {\n      \"column\": \"fixed acidity\",\n      \"properties\": {\n        \"dtype\": \"number\",\n        \"std\": 401.37129792938555,\n        \"min\": 1.747595017169539,\n        \"max\": 1143.0,\n        \"num_unique_values\": 8,\n        \"samples\": [\n          8.311111111111112,\n          7.9,\n          1143.0\n        ],\n        \"semantic_type\": \"\",\n        \"description\": \"\"\n      }\n    },\n    {\n      \"column\": \"volatile acidity\",\n      \"properties\": {\n        \"dtype\": \"number\",\n        \"std\": 403.9115901754726,\n        \"min\": 0.12,\n        \"max\": 1143.0,\n        \"num_unique_values\": 8,\n        \"samples\": [\n          0.5313385826771653,\n          0.52,\n          1143.0\n        ],\n        \"semantic_type\": \"\",\n        \"description\": \"\"\n      }\n    },\n    {\n      \"column\": \"citric acid\",\n      \"properties\": {\n        \"dtype\": \"number\",\n        \"std\": 403.9992584622611,\n        \"min\": 0.0,\n        \"max\": 1143.0,\n        \"num_unique_values\": 8,\n        \"samples\": [\n          0.2683639545056868,\n          0.25,\n          1143.0\n        ],\n        \"semantic_type\": \"\",\n        \"description\": \"\"\n      }\n    },\n    {\n      \"column\": \"residual sugar\",\n      \"properties\": {\n        \"dtype\": \"number\",\n        \"std\": 402.7768807918247,\n        \"min\": 0.9,\n        \"max\": 1143.0,\n        \"num_unique_values\": 8,\n        \"samples\": [\n          2.5321522309711284,\n          2.2,\n          1143.0\n        ],\n        \"semantic_type\": \"\",\n        \"description\": \"\"\n      }\n    },\n    {\n      \"column\": \"chlorides\",\n      \"properties\": {\n        \"dtype\": \"number\",\n        \"std\": 404.06125584121634,\n        \"min\": 0.012,\n        \"max\": 1143.0,\n        \"num_unique_values\": 8,\n        \"samples\": [\n          0.08693263342082239,\n          0.079,\n          1143.0\n        ],\n        \"semantic_type\": \"\",\n        \"description\": \"\"\n      }\n    },\n    {\n      \"column\": \"free sulfur dioxide\",\n      \"properties\": {\n        \"dtype\": \"number\",\n        \"std\": 397.78756788778855,\n        \"min\": 1.0,\n        \"max\": 1143.0,\n        \"num_unique_values\": 8,\n        \"samples\": [\n          15.615485564304462,\n          13.0,\n          1143.0\n        ],\n        \"semantic_type\": \"\",\n        \"description\": \"\"\n      }\n    },\n    {\n      \"column\": \"total sulfur dioxide\",\n      \"properties\": {\n        \"dtype\": \"number\",\n        \"std\": 389.92340149636726,\n        \"min\": 6.0,\n        \"max\": 1143.0,\n        \"num_unique_values\": 8,\n        \"samples\": [\n          45.91469816272966,\n          37.0,\n          1143.0\n        ],\n        \"semantic_type\": \"\",\n        \"description\": \"\"\n      }\n    },\n    {\n      \"column\": \"density\",\n      \"properties\": {\n        \"dtype\": \"number\",\n        \"std\": 403.8095131122374,\n        \"min\": 0.0019250671302545707,\n        \"max\": 1143.0,\n        \"num_unique_values\": 8,\n        \"samples\": [\n          0.9967304111986001,\n          0.99668,\n          1143.0\n        ],\n        \"semantic_type\": \"\",\n        \"description\": \"\"\n      }\n    },\n    {\n      \"column\": \"pH\",\n      \"properties\": {\n        \"dtype\": \"number\",\n        \"std\": 403.09634785670755,\n        \"min\": 0.15666405977275222,\n        \"max\": 1143.0,\n        \"num_unique_values\": 8,\n        \"samples\": [\n          3.3110148731408575,\n          3.31,\n          1143.0\n        ],\n        \"semantic_type\": \"\",\n        \"description\": \"\"\n      }\n    },\n    {\n      \"column\": \"sulphates\",\n      \"properties\": {\n        \"dtype\": \"number\",\n        \"std\": 403.8564301699701,\n        \"min\": 0.1703987144670742,\n        \"max\": 1143.0,\n        \"num_unique_values\": 8,\n        \"samples\": [\n          0.6577077865266842,\n          0.62,\n          1143.0\n        ],\n        \"semantic_type\": \"\",\n        \"description\": \"\"\n      }\n    },\n    {\n      \"column\": \"alcohol\",\n      \"properties\": {\n        \"dtype\": \"number\",\n        \"std\": 400.81571992984664,\n        \"min\": 1.0821956098764456,\n        \"max\": 1143.0,\n        \"num_unique_values\": 8,\n        \"samples\": [\n          10.442111402741325,\n          10.2,\n          1143.0\n        ],\n        \"semantic_type\": \"\",\n        \"description\": \"\"\n      }\n    },\n    {\n      \"column\": \"quality\",\n      \"properties\": {\n        \"dtype\": \"number\",\n        \"std\": 402.3767426282073,\n        \"min\": 0.8058242481000936,\n        \"max\": 1143.0,\n        \"num_unique_values\": 7,\n        \"samples\": [\n          1143.0,\n          5.657042869641295,\n          6.0\n        ],\n        \"semantic_type\": \"\",\n        \"description\": \"\"\n      }\n    },\n    {\n      \"column\": \"Id\",\n      \"properties\": {\n        \"dtype\": \"number\",\n        \"std\": 510.5681776266192,\n        \"min\": 0.0,\n        \"max\": 1597.0,\n        \"num_unique_values\": 8,\n        \"samples\": [\n          804.9693788276466,\n          794.0,\n          1143.0\n        ],\n        \"semantic_type\": \"\",\n        \"description\": \"\"\n      }\n    }\n  ]\n}"
            }
          },
          "metadata": {},
          "execution_count": 9
        }
      ]
    },
    {
      "cell_type": "code",
      "source": [
        "promedio_acidez = df['fixed acidity'].mean()\n",
        "print(\"El promedio de la acidez es: \", promedio_acidez)"
      ],
      "metadata": {
        "colab": {
          "base_uri": "https://localhost:8080/"
        },
        "id": "5MBJeRkGxO_S",
        "outputId": "e63381cc-9d96-4fa8-e79b-bb67f951c80f"
      },
      "execution_count": 10,
      "outputs": [
        {
          "output_type": "stream",
          "name": "stdout",
          "text": [
            "El promedio de la acidez es:  8.311111111111112\n"
          ]
        }
      ]
    },
    {
      "cell_type": "code",
      "source": [
        "promedio_acidez_trim = trim_mean(df['fixed acidity'], 0.1)\n",
        "print(\"El promedio Trimeado es: \", promedio_acidez_trim)"
      ],
      "metadata": {
        "colab": {
          "base_uri": "https://localhost:8080/"
        },
        "id": "fPNj6ZKFxT8E",
        "outputId": "a8e7e4af-43b7-4f93-f01d-d056edbc36f6"
      },
      "execution_count": 11,
      "outputs": [
        {
          "output_type": "stream",
          "name": "stdout",
          "text": [
            "El promedio Trimeado es:  8.133114754098361\n"
          ]
        }
      ]
    },
    {
      "cell_type": "code",
      "source": [
        "media_ponderada = np.average(df['alcohol'], weights=df['fixed acidity'])\n",
        "print(\"La media ponderada es: \", media_ponderada)"
      ],
      "metadata": {
        "colab": {
          "base_uri": "https://localhost:8080/"
        },
        "id": "jz7Ra0p0xT-r",
        "outputId": "20f65f0d-60f0-446f-aa6f-b9c2d8833f16"
      },
      "execution_count": 12,
      "outputs": [
        {
          "output_type": "stream",
          "name": "stdout",
          "text": [
            "La media ponderada es:  10.425047194969613\n"
          ]
        }
      ]
    },
    {
      "cell_type": "code",
      "source": [
        "df['alcohol'].plot.line()"
      ],
      "metadata": {
        "colab": {
          "base_uri": "https://localhost:8080/",
          "height": 447
        },
        "id": "jJgwlPNOxUCj",
        "outputId": "49aea97c-bf63-4be0-ece6-02eded7c8ffe"
      },
      "execution_count": 13,
      "outputs": [
        {
          "output_type": "execute_result",
          "data": {
            "text/plain": [
              "<Axes: >"
            ]
          },
          "metadata": {},
          "execution_count": 13
        },
        {
          "output_type": "display_data",
          "data": {
            "text/plain": [
              "<Figure size 640x480 with 1 Axes>"
            ],
            "image/png": "[encoded data removed]"
          },
          "metadata": {}
        }
      ]
    },
    {
      "cell_type": "code",
      "source": [
        "sns.barplot(x = df.index, y = df['alcohol'], palette='coolwarm')"
      ],
      "metadata": {
        "colab": {
          "base_uri": "https://localhost:8080/",
          "height": 553
        },
        "id": "C1qLLddGxUE7",
        "outputId": "9cc35dca-ddd1-4dc2-e6ec-f622101a0871"
      },
      "execution_count": 14,
      "outputs": [
        {
          "output_type": "stream",
          "name": "stderr",
          "text": [
            "<ipython-input-14-2abc434e8db2>:1: FutureWarning: \n",
            "\n",
            "Passing `palette` without assigning `hue` is deprecated and will be removed in v0.14.0. Assign the `x` variable to `hue` and set `legend=False` for the same effect.\n",
            "\n",
            "  sns.barplot(x = df.index, y = df['alcohol'], palette='coolwarm')\n"
          ]
        },
        {
          "output_type": "execute_result",
          "data": {
            "text/plain": [
              "<Axes: xlabel='None', ylabel='alcohol'>"
            ]
          },
          "metadata": {},
          "execution_count": 14
        },
        {
          "output_type": "display_data",
          "data": {
            "text/plain": [
              "<Figure size 640x480 with 1 Axes>"
            ],
            "image/png": "[encoded data removed]"
          },
          "metadata": {}
        }
      ]
    },
    {
      "cell_type": "code",
      "source": [
        "sns.histplot(df[\"fixed acidity\"], kde=False, color='skyblue', bins=20)\n",
        "plt.xlabel(\"Acidez\")\n",
        "plt.show()"
      ],
      "metadata": {
        "colab": {
          "base_uri": "https://localhost:8080/",
          "height": 449
        },
        "id": "Qy6H_fdJxRmb",
        "outputId": "26baffb7-b85f-4129-d1da-70f188b478e4"
      },
      "execution_count": 15,
      "outputs": [
        {
          "output_type": "display_data",
          "data": {
            "text/plain": [
              "<Figure size 640x480 with 1 Axes>"
            ],
            "image/png": "[encoded data removed]"
          },
          "metadata": {}
        }
      ]
    },
    {
      "cell_type": "code",
      "source": [
        "ax = df[\"alcohol\"].plot.hist(figsize=(8, 6), bins=20, color='skyblue', edgecolor='black')\n",
        "ax.set_xlabel(\"Alcohol\")\n",
        "plt.tight_layout()\n",
        "plt.show()"
      ],
      "metadata": {
        "colab": {
          "base_uri": "https://localhost:8080/",
          "height": 607
        },
        "id": "GBqt3ElKxcEz",
        "outputId": "2682a99c-2589-4747-e32c-69b2ad3cb36b"
      },
      "execution_count": 16,
      "outputs": [
        {
          "output_type": "display_data",
          "data": {
            "text/plain": [
              "<Figure size 800x600 with 1 Axes>"
            ],
            "image/png": "[encoded data removed]"
          },
          "metadata": {}
        }
      ]
    },
    {
      "cell_type": "code",
      "source": [
        "analisis = df.head(10)\n",
        "g = sns.FacetGrid(analisis, col = \"fixed acidity\")\n",
        "g.map(sns.distplot, \"alcohol\")"
      ],
      "metadata": {
        "colab": {
          "base_uri": "https://localhost:8080/",
          "height": 1000
        },
        "id": "enrlrTCGxd4L",
        "outputId": "2b0ab119-f45f-4480-d231-2e3952d78138"
      },
      "execution_count": 17,
      "outputs": [
        {
          "output_type": "stream",
          "name": "stderr",
          "text": [
            "/usr/local/lib/python3.11/dist-packages/seaborn/axisgrid.py:854: UserWarning: \n",
            "\n",
            "`distplot` is a deprecated function and will be removed in seaborn v0.14.0.\n",
            "\n",
            "Please adapt your code to use either `displot` (a figure-level function with\n",
            "similar flexibility) or `histplot` (an axes-level function for histograms).\n",
            "\n",
            "For a guide to updating your code to use the new functions, please see\n",
            "https://gist.github.com/mwaskom/de44147ed2974457ad6372750bbe5751\n",
            "\n",
            "  func(*plot_args, **plot_kwargs)\n",
            "/usr/local/lib/python3.11/dist-packages/seaborn/distributions.py:2496: UserWarning: Dataset has 0 variance; skipping density estimate. Pass `warn_singular=False` to disable this warning.\n",
            "  kdeplot(**{axis: a}, ax=ax, color=kde_color, **kde_kws)\n",
            "/usr/local/lib/python3.11/dist-packages/seaborn/axisgrid.py:854: UserWarning: \n",
            "\n",
            "`distplot` is a deprecated function and will be removed in seaborn v0.14.0.\n",
            "\n",
            "Please adapt your code to use either `displot` (a figure-level function with\n",
            "similar flexibility) or `histplot` (an axes-level function for histograms).\n",
            "\n",
            "For a guide to updating your code to use the new functions, please see\n",
            "https://gist.github.com/mwaskom/de44147ed2974457ad6372750bbe5751\n",
            "\n",
            "  func(*plot_args, **plot_kwargs)\n",
            "/usr/local/lib/python3.11/dist-packages/seaborn/distributions.py:2496: UserWarning: Dataset has 0 variance; skipping density estimate. Pass `warn_singular=False` to disable this warning.\n",
            "  kdeplot(**{axis: a}, ax=ax, color=kde_color, **kde_kws)\n",
            "/usr/local/lib/python3.11/dist-packages/seaborn/axisgrid.py:854: UserWarning: \n",
            "\n",
            "`distplot` is a deprecated function and will be removed in seaborn v0.14.0.\n",
            "\n",
            "Please adapt your code to use either `displot` (a figure-level function with\n",
            "similar flexibility) or `histplot` (an axes-level function for histograms).\n",
            "\n",
            "For a guide to updating your code to use the new functions, please see\n",
            "https://gist.github.com/mwaskom/de44147ed2974457ad6372750bbe5751\n",
            "\n",
            "  func(*plot_args, **plot_kwargs)\n",
            "/usr/local/lib/python3.11/dist-packages/seaborn/distributions.py:2496: UserWarning: Dataset has 0 variance; skipping density estimate. Pass `warn_singular=False` to disable this warning.\n",
            "  kdeplot(**{axis: a}, ax=ax, color=kde_color, **kde_kws)\n",
            "/usr/local/lib/python3.11/dist-packages/seaborn/axisgrid.py:854: UserWarning: \n",
            "\n",
            "`distplot` is a deprecated function and will be removed in seaborn v0.14.0.\n",
            "\n",
            "Please adapt your code to use either `displot` (a figure-level function with\n",
            "similar flexibility) or `histplot` (an axes-level function for histograms).\n",
            "\n",
            "For a guide to updating your code to use the new functions, please see\n",
            "https://gist.github.com/mwaskom/de44147ed2974457ad6372750bbe5751\n",
            "\n",
            "  func(*plot_args, **plot_kwargs)\n",
            "/usr/local/lib/python3.11/dist-packages/seaborn/axisgrid.py:854: UserWarning: \n",
            "\n",
            "`distplot` is a deprecated function and will be removed in seaborn v0.14.0.\n",
            "\n",
            "Please adapt your code to use either `displot` (a figure-level function with\n",
            "similar flexibility) or `histplot` (an axes-level function for histograms).\n",
            "\n",
            "For a guide to updating your code to use the new functions, please see\n",
            "https://gist.github.com/mwaskom/de44147ed2974457ad6372750bbe5751\n",
            "\n",
            "  func(*plot_args, **plot_kwargs)\n",
            "/usr/local/lib/python3.11/dist-packages/seaborn/distributions.py:2496: UserWarning: Dataset has 0 variance; skipping density estimate. Pass `warn_singular=False` to disable this warning.\n",
            "  kdeplot(**{axis: a}, ax=ax, color=kde_color, **kde_kws)\n",
            "/usr/local/lib/python3.11/dist-packages/seaborn/axisgrid.py:854: UserWarning: \n",
            "\n",
            "`distplot` is a deprecated function and will be removed in seaborn v0.14.0.\n",
            "\n",
            "Please adapt your code to use either `displot` (a figure-level function with\n",
            "similar flexibility) or `histplot` (an axes-level function for histograms).\n",
            "\n",
            "For a guide to updating your code to use the new functions, please see\n",
            "https://gist.github.com/mwaskom/de44147ed2974457ad6372750bbe5751\n",
            "\n",
            "  func(*plot_args, **plot_kwargs)\n",
            "/usr/local/lib/python3.11/dist-packages/seaborn/distributions.py:2496: UserWarning: Dataset has 0 variance; skipping density estimate. Pass `warn_singular=False` to disable this warning.\n",
            "  kdeplot(**{axis: a}, ax=ax, color=kde_color, **kde_kws)\n"
          ]
        },
        {
          "output_type": "execute_result",
          "data": {
            "text/plain": [
              "<seaborn.axisgrid.FacetGrid at 0x7f9f8d9c8910>"
            ]
          },
          "metadata": {},
          "execution_count": 17
        },
        {
          "output_type": "display_data",
          "data": {
            "text/plain": [
              "<Figure size 1800x300 with 6 Axes>"
            ],
            "image/png": "[encoded data removed]"
          },
          "metadata": {}
        }
      ]
    },
    {
      "cell_type": "code",
      "source": [
        "# Calcular la correlación entre 'fixed acidity' y 'alcohol'\n",
        "correlation = df['fixed acidity'].corr(df['alcohol'])\n",
        "print(\"La correlación entre acidez fija y alcohol es:\", correlation)"
      ],
      "metadata": {
        "colab": {
          "base_uri": "https://localhost:8080/"
        },
        "id": "pj--nSbUzFoR",
        "outputId": "818a6e59-05d3-41e4-c87c-2a649f50006c"
      },
      "execution_count": 18,
      "outputs": [
        {
          "output_type": "stream",
          "name": "stdout",
          "text": [
            "La correlación entre acidez fija y alcohol es: -0.07505485317982825\n"
          ]
        }
      ]
    },
    {
      "cell_type": "code",
      "source": [
        "# Gráfico de dispersión para visualizar la relación entre acidez y alcohol\n",
        "sns.scatterplot(x = 'fixed acidity', y = 'alcohol', data = df)\n",
        "plt.title(\"Relación entre acidez y alcohol en el vino\")\n",
        "plt.xlabel(\"Acidez fija\")\n",
        "plt.ylabel(\"Alcohol\")\n",
        "plt.show()"
      ],
      "metadata": {
        "colab": {
          "base_uri": "https://localhost:8080/",
          "height": 472
        },
        "id": "hQDwEbMa1Vma",
        "outputId": "95e62a5e-1798-44c4-bb9d-d6b2e27211ba"
      },
      "execution_count": 19,
      "outputs": [
        {
          "output_type": "display_data",
          "data": {
            "text/plain": [
              "<Figure size 640x480 with 1 Axes>"
            ],
            "image/png": "[encoded data removed]"
          },
          "metadata": {}
        }
      ]
    },
    {
      "cell_type": "code",
      "source": [
        "# Calcular la mediana ponderada del alcohol utilizando 'fixed acidity' como pesos\n",
        "weighted_median_alcohol = wquantiles.median(df['alcohol'], weights = df['fixed acidity'])\n",
        "print(\"La mediana ponderada del alcohol es:\", weighted_median_alcohol)"
      ],
      "metadata": {
        "colab": {
          "base_uri": "https://localhost:8080/"
        },
        "id": "ZXurciYF1XbC",
        "outputId": "1bba9fd1-96ac-4d7c-d0fe-f248953384af"
      },
      "execution_count": 20,
      "outputs": [
        {
          "output_type": "stream",
          "name": "stdout",
          "text": [
            "La mediana ponderada del alcohol es: 10.152348993288577\n"
          ]
        }
      ]
    },
    {
      "cell_type": "code",
      "source": [
        "# Calcular la desviación absoluta mediana (MAD) de la acidez (una medida robusta de dispersión)\n",
        "mad_acidity = robust.mad(df['fixed acidity'])\n",
        "print(\"La desviación absoluta mediana (MAD) de la acidez es:\", mad_acidity)"
      ],
      "metadata": {
        "colab": {
          "base_uri": "https://localhost:8080/"
        },
        "id": "8UoTpHhH1YcJ",
        "outputId": "c4fc2cc1-5191-496d-8cae-da2231bb340d"
      },
      "execution_count": 21,
      "outputs": [
        {
          "output_type": "stream",
          "name": "stdout",
          "text": [
            "La desviación absoluta mediana (MAD) de la acidez es: 1.3343419966550423\n"
          ]
        }
      ]
    },
    {
      "cell_type": "code",
      "source": [
        "# Histograma y densidad de probabilidad para 'fixed acidity' y 'alcohol'\n",
        "plt.figure(figsize=(12, 5))\n",
        "\n",
        "plt.subplot(1, 2, 1)\n",
        "sns.histplot(df['fixed acidity'], kde=True, bins=30)\n",
        "plt.title(\"Distribución de la acidez fija\")\n",
        "plt.xlabel(\"Acidez fija\")\n",
        "\n",
        "plt.subplot(1, 2, 2)\n",
        "sns.histplot(df['alcohol'], kde=True, bins=30)\n",
        "plt.title(\"Distribución del alcohol\")\n",
        "plt.xlabel(\"Alcohol\")\n",
        "\n",
        "plt.tight_layout()\n",
        "plt.show()"
      ],
      "metadata": {
        "colab": {
          "base_uri": "https://localhost:8080/",
          "height": 507
        },
        "id": "7rqNKrv91ZhJ",
        "outputId": "00372224-8e00-4c57-f30b-e8d919a251e2"
      },
      "execution_count": 22,
      "outputs": [
        {
          "output_type": "display_data",
          "data": {
            "text/plain": [
              "<Figure size 1200x500 with 2 Axes>"
            ],
            "image/png": "[encoded data removed]"
          },
          "metadata": {}
        }
      ]
    },
    {
      "cell_type": "code",
      "source": [
        "# Estadísticas descriptivas para 'fixed acidity' y 'alcohol'\n",
        "desc_stats = df[['fixed acidity', 'alcohol']].describe()\n",
        "print(\"Estadísticas descriptivas para acidez y alcohol:\\n\", desc_stats)"
      ],
      "metadata": {
        "colab": {
          "base_uri": "https://localhost:8080/"
        },
        "id": "Xqtg40nc1btB",
        "outputId": "293637ba-914e-44b2-d72e-120268bcd4a3"
      },
      "execution_count": 23,
      "outputs": [
        {
          "output_type": "stream",
          "name": "stdout",
          "text": [
            "Estadísticas descriptivas para acidez y alcohol:\n",
            "        fixed acidity      alcohol\n",
            "count    1143.000000  1143.000000\n",
            "mean        8.311111    10.442111\n",
            "std         1.747595     1.082196\n",
            "min         4.600000     8.400000\n",
            "25%         7.100000     9.500000\n",
            "50%         7.900000    10.200000\n",
            "75%         9.100000    11.100000\n",
            "max        15.900000    14.900000\n"
          ]
        }
      ]
    },
    {
      "cell_type": "code",
      "source": [
        "# Regresión lineal simple: predecir el alcohol en función de la acidez fija\n",
        "import statsmodels.api as sm\n",
        "\n",
        "X = df['fixed acidity']\n",
        "y = df['alcohol']\n",
        "X = sm.add_constant(X)  # Añadimos la constante (intercepto)\n",
        "\n",
        "modelo = sm.OLS(y, X).fit()\n",
        "print(modelo.summary())"
      ],
      "metadata": {
        "colab": {
          "base_uri": "https://localhost:8080/"
        },
        "id": "Bbm6w4KI1dPp",
        "outputId": "73250b38-f6bc-4acb-9ab8-ed326f689d08"
      },
      "execution_count": 24,
      "outputs": [
        {
          "output_type": "stream",
          "name": "stdout",
          "text": [
            "                            OLS Regression Results                            \n",
            "==============================================================================\n",
            "Dep. Variable:                alcohol   R-squared:                       0.006\n",
            "Model:                            OLS   Adj. R-squared:                  0.005\n",
            "Method:                 Least Squares   F-statistic:                     6.464\n",
            "Date:                Mon, 17 Mar 2025   Prob (F-statistic):             0.0111\n",
            "Time:                        20:40:34   Log-Likelihood:                -1708.4\n",
            "No. Observations:                1143   AIC:                             3421.\n",
            "Df Residuals:                    1141   BIC:                             3431.\n",
            "Df Model:                           1                                         \n",
            "Covariance Type:            nonrobust                                         \n",
            "=================================================================================\n",
            "                    coef    std err          t      P>|t|      [0.025      0.975]\n",
            "---------------------------------------------------------------------------------\n",
            "const            10.8284      0.155     69.747      0.000      10.524      11.133\n",
            "fixed acidity    -0.0465      0.018     -2.542      0.011      -0.082      -0.011\n",
            "==============================================================================\n",
            "Omnibus:                      108.398   Durbin-Watson:                   1.612\n",
            "Prob(Omnibus):                  0.000   Jarque-Bera (JB):              138.770\n",
            "Skew:                           0.848   Prob(JB):                     7.35e-31\n",
            "Kurtosis:                       3.199   Cond. No.                         41.8\n",
            "==============================================================================\n",
            "\n",
            "Notes:\n",
            "[1] Standard Errors assume that the covariance matrix of the errors is correctly specified.\n"
          ]
        }
      ]
    },
    {
      "cell_type": "markdown",
      "source": [
        "Con base en los resultados de la regresión lineal, podemos extraer las siguientes conclusiones principales:\n",
        "\n",
        "**Relación lineal muy débil**\n",
        "\n",
        "El valor de R^2 es aproximadamente 0.006 (0.6%), lo que indica que la acidez fija explica muy poca variabilidad en el contenido de alcohol.\n",
        "\n",
        "En términos prácticos, esto significa que hay muchos otros factores dentro del dataset que influyen en el nivel de alcohol del vino.\n",
        "\n",
        "**Pendiente negativa y significativa**\n",
        "\n",
        "El coeficiente de la acidez fija es de alrededor de -0.0465 con un p-value de 0.011, por debajo del umbral típico de 0.05.\n",
        "\n",
        "La significancia estadística indica que el efecto no es producto del azar, pero el efecto es pequeño: por cada aumento de 1 unidad en la acidez, el alcohol se reduce en tan solo 0.0465 unidades.\n",
        "\n",
        "**Interpretación**\n",
        "\n",
        "Aunque el coeficiente sea estadísticamente significativo, el tamaño del efecto (y la capacidad de predicción) es muy bajo.\n",
        "\n",
        "En la práctica, la acidez fija no es un buen predictor del contenido de alcohol, por lo que sería necesario incluir otras variables (como el tipo de uva, la región, el proceso de fermentación, etc.) para explicar mejor el nivel de alcohol en el vino.\n",
        "\n",
        "**Conclusión**\n",
        "\n",
        "A partir del análisis que realizamos, se puede decir que existe una relación negativa leve entre la acidez y el alcohol, pero es tan pequeña que no resulta útil para predecir el alcohol de un vino basándonos solo en la acidez."
      ],
      "metadata": {
        "id": "7LEO1-3f2GrJ"
      }
    },
    {
      "cell_type": "code",
      "source": [
        "quantil_acidez = df[\"fixed acidity\"].quantile(0.75) - df[\"fixed acidity\"].quantile(0.25)\n",
        "print(\"IQR de Acidez:\", quantil_acidez)\n",
        "\n",
        "quantil_alcohol = df[\"alcohol\"].quantile(0.75) - df[\"alcohol\"].quantile(0.25)\n",
        "print(\"IQR de Alcohol:\", quantil_alcohol)"
      ],
      "metadata": {
        "colab": {
          "base_uri": "https://localhost:8080/"
        },
        "id": "BF1CZg9u0qwT",
        "outputId": "822726ba-ee2c-4139-ba99-7cd3fedb4f49"
      },
      "execution_count": 30,
      "outputs": [
        {
          "output_type": "stream",
          "name": "stdout",
          "text": [
            "IQR de Acidez: 2.0\n",
            "IQR de Alcohol: 1.5999999999999996\n"
          ]
        }
      ]
    },
    {
      "cell_type": "code",
      "source": [
        "mad_acidez = robust.scale.mad(df[\"fixed acidity\"])\n",
        "print(\"Desviación absoluta de supervivientes\", mad_acidez)\n",
        "\n",
        "mad_alcohol = robust.scale.mad(df[\"alcohol\"])\n",
        "print(\"Desviación absoluta de tarifas\", mad_alcohol)"
      ],
      "metadata": {
        "colab": {
          "base_uri": "https://localhost:8080/"
        },
        "id": "RfXBbF8w0vri",
        "outputId": "f1ff5a79-8910-4b41-99f6-340be4b94ac8"
      },
      "execution_count": 32,
      "outputs": [
        {
          "output_type": "stream",
          "name": "stdout",
          "text": [
            "Desviación absoluta de supervivientes 1.3343419966550423\n",
            "Desviación absoluta de tarifas 1.037821552953923\n"
          ]
        }
      ]
    },
    {
      "cell_type": "code",
      "source": [
        "df['fixed acidity'].quantile([0.05, 0.25, 0.75, 0.95])"
      ],
      "metadata": {
        "colab": {
          "base_uri": "https://localhost:8080/",
          "height": 210
        },
        "id": "8fkuphn70xmy",
        "outputId": "c0257430-88d0-4937-e348-411a0d27de5e"
      },
      "execution_count": 33,
      "outputs": [
        {
          "output_type": "execute_result",
          "data": {
            "text/plain": [
              "0.05     6.1\n",
              "0.25     7.1\n",
              "0.75     9.1\n",
              "0.95    11.9\n",
              "Name: fixed acidity, dtype: float64"
            ],
            "text/html": [
              "<div>\n",
              "<style scoped>\n",
              "    .dataframe tbody tr th:only-of-type {\n",
              "        vertical-align: middle;\n",
              "    }\n",
              "\n",
              "    .dataframe tbody tr th {\n",
              "        vertical-align: top;\n",
              "    }\n",
              "\n",
              "    .dataframe thead th {\n",
              "        text-align: right;\n",
              "    }\n",
              "</style>\n",
              "<table border=\"1\" class=\"dataframe\">\n",
              "  <thead>\n",
              "    <tr style=\"text-align: right;\">\n",
              "      <th></th>\n",
              "      <th>fixed acidity</th>\n",
              "    </tr>\n",
              "  </thead>\n",
              "  <tbody>\n",
              "    <tr>\n",
              "      <th>0.05</th>\n",
              "      <td>6.1</td>\n",
              "    </tr>\n",
              "    <tr>\n",
              "      <th>0.25</th>\n",
              "      <td>7.1</td>\n",
              "    </tr>\n",
              "    <tr>\n",
              "      <th>0.75</th>\n",
              "      <td>9.1</td>\n",
              "    </tr>\n",
              "    <tr>\n",
              "      <th>0.95</th>\n",
              "      <td>11.9</td>\n",
              "    </tr>\n",
              "  </tbody>\n",
              "</table>\n",
              "</div><br><label><b>dtype:</b> float64</label>"
            ]
          },
          "metadata": {},
          "execution_count": 33
        }
      ]
    },
    {
      "cell_type": "code",
      "source": [
        "ax = (df[\"fixed acidity\"]).plot.box(figsize = (2,4))\n",
        "ax.set_ylabel(\"Acidez\")"
      ],
      "metadata": {
        "colab": {
          "base_uri": "https://localhost:8080/",
          "height": 385
        },
        "id": "RQkfplgj0xpS",
        "outputId": "e4f79d29-bfbf-4b6e-cfdb-53bf89fe8b0a"
      },
      "execution_count": 35,
      "outputs": [
        {
          "output_type": "execute_result",
          "data": {
            "text/plain": [
              "Text(0, 0.5, 'Acidez')"
            ]
          },
          "metadata": {},
          "execution_count": 35
        },
        {
          "output_type": "display_data",
          "data": {
            "text/plain": [
              "<Figure size 200x400 with 1 Axes>"
            ],
            "image/png": "[encoded data removed]"
          },
          "metadata": {}
        }
      ]
    },
    {
      "cell_type": "code",
      "source": [
        "ax = (df[\"alcohol\"]).plot.box(figsize = (2,4))\n",
        "ax.set_ylabel(\"Alcohol\")"
      ],
      "metadata": {
        "colab": {
          "base_uri": "https://localhost:8080/",
          "height": 385
        },
        "id": "gS0arxXK1dIa",
        "outputId": "8cd60a73-20e0-426d-b102-342657091b88"
      },
      "execution_count": 37,
      "outputs": [
        {
          "output_type": "execute_result",
          "data": {
            "text/plain": [
              "Text(0, 0.5, 'Alcohol')"
            ]
          },
          "metadata": {},
          "execution_count": 37
        },
        {
          "output_type": "display_data",
          "data": {
            "text/plain": [
              "<Figure size 200x400 with 1 Axes>"
            ],
            "image/png": "[encoded data removed]"
          },
          "metadata": {}
        }
      ]
    },
    {
      "cell_type": "code",
      "source": [
        "binnedAcidez = pd.cut(df[\"fixed acidity\"], 15)\n",
        "binnedAcidez.value_counts()"
      ],
      "metadata": {
        "colab": {
          "base_uri": "https://localhost:8080/",
          "height": 586
        },
        "id": "YFMQ81B10xrr",
        "outputId": "b24fb9db-8e51-4f1d-ec39-05440dbb45e1"
      },
      "execution_count": 40,
      "outputs": [
        {
          "output_type": "execute_result",
          "data": {
            "text/plain": [
              "fixed acidity\n",
              "(6.86, 7.613]       282\n",
              "(7.613, 8.367]      216\n",
              "(8.367, 9.12]       170\n",
              "(6.107, 6.86]       135\n",
              "(9.873, 10.627]      89\n",
              "(9.12, 9.873]        73\n",
              "(11.38, 12.133]      41\n",
              "(5.353, 6.107]       38\n",
              "(10.627, 11.38]      34\n",
              "(12.133, 12.887]     25\n",
              "(4.589, 5.353]       21\n",
              "(12.887, 13.64]      10\n",
              "(15.147, 15.9]        4\n",
              "(13.64, 14.393]       3\n",
              "(14.393, 15.147]      2\n",
              "Name: count, dtype: int64"
            ],
            "text/html": [
              "<div>\n",
              "<style scoped>\n",
              "    .dataframe tbody tr th:only-of-type {\n",
              "        vertical-align: middle;\n",
              "    }\n",
              "\n",
              "    .dataframe tbody tr th {\n",
              "        vertical-align: top;\n",
              "    }\n",
              "\n",
              "    .dataframe thead th {\n",
              "        text-align: right;\n",
              "    }\n",
              "</style>\n",
              "<table border=\"1\" class=\"dataframe\">\n",
              "  <thead>\n",
              "    <tr style=\"text-align: right;\">\n",
              "      <th></th>\n",
              "      <th>count</th>\n",
              "    </tr>\n",
              "    <tr>\n",
              "      <th>fixed acidity</th>\n",
              "      <th></th>\n",
              "    </tr>\n",
              "  </thead>\n",
              "  <tbody>\n",
              "    <tr>\n",
              "      <th>(6.86, 7.613]</th>\n",
              "      <td>282</td>\n",
              "    </tr>\n",
              "    <tr>\n",
              "      <th>(7.613, 8.367]</th>\n",
              "      <td>216</td>\n",
              "    </tr>\n",
              "    <tr>\n",
              "      <th>(8.367, 9.12]</th>\n",
              "      <td>170</td>\n",
              "    </tr>\n",
              "    <tr>\n",
              "      <th>(6.107, 6.86]</th>\n",
              "      <td>135</td>\n",
              "    </tr>\n",
              "    <tr>\n",
              "      <th>(9.873, 10.627]</th>\n",
              "      <td>89</td>\n",
              "    </tr>\n",
              "    <tr>\n",
              "      <th>(9.12, 9.873]</th>\n",
              "      <td>73</td>\n",
              "    </tr>\n",
              "    <tr>\n",
              "      <th>(11.38, 12.133]</th>\n",
              "      <td>41</td>\n",
              "    </tr>\n",
              "    <tr>\n",
              "      <th>(5.353, 6.107]</th>\n",
              "      <td>38</td>\n",
              "    </tr>\n",
              "    <tr>\n",
              "      <th>(10.627, 11.38]</th>\n",
              "      <td>34</td>\n",
              "    </tr>\n",
              "    <tr>\n",
              "      <th>(12.133, 12.887]</th>\n",
              "      <td>25</td>\n",
              "    </tr>\n",
              "    <tr>\n",
              "      <th>(4.589, 5.353]</th>\n",
              "      <td>21</td>\n",
              "    </tr>\n",
              "    <tr>\n",
              "      <th>(12.887, 13.64]</th>\n",
              "      <td>10</td>\n",
              "    </tr>\n",
              "    <tr>\n",
              "      <th>(15.147, 15.9]</th>\n",
              "      <td>4</td>\n",
              "    </tr>\n",
              "    <tr>\n",
              "      <th>(13.64, 14.393]</th>\n",
              "      <td>3</td>\n",
              "    </tr>\n",
              "    <tr>\n",
              "      <th>(14.393, 15.147]</th>\n",
              "      <td>2</td>\n",
              "    </tr>\n",
              "  </tbody>\n",
              "</table>\n",
              "</div><br><label><b>dtype:</b> int64</label>"
            ]
          },
          "metadata": {},
          "execution_count": 40
        }
      ]
    },
    {
      "cell_type": "code",
      "source": [
        "binnedAlcohol = pd.cut(df[\"alcohol\"], 15)\n",
        "binnedAlcohol.value_counts()"
      ],
      "metadata": {
        "colab": {
          "base_uri": "https://localhost:8080/",
          "height": 586
        },
        "id": "ULsIAOb51iAZ",
        "outputId": "91c1c05a-cd2b-4b43-ce08-a9c0ece2ef84"
      },
      "execution_count": 44,
      "outputs": [
        {
          "output_type": "execute_result",
          "data": {
            "text/plain": [
              "alcohol\n",
              "(9.267, 9.7]        296\n",
              "(9.7, 10.133]       178\n",
              "(10.567, 11.0]      142\n",
              "(10.133, 10.567]    131\n",
              "(11.0, 11.433]       93\n",
              "(8.833, 9.267]       88\n",
              "(11.433, 11.867]     72\n",
              "(11.867, 12.3]       57\n",
              "(12.3, 12.733]       41\n",
              "(12.733, 13.167]     21\n",
              "(13.167, 13.6]       11\n",
              "(8.394, 8.833]        6\n",
              "(13.6, 14.033]        6\n",
              "(14.467, 14.9]        1\n",
              "(14.033, 14.467]      0\n",
              "Name: count, dtype: int64"
            ],
            "text/html": [
              "<div>\n",
              "<style scoped>\n",
              "    .dataframe tbody tr th:only-of-type {\n",
              "        vertical-align: middle;\n",
              "    }\n",
              "\n",
              "    .dataframe tbody tr th {\n",
              "        vertical-align: top;\n",
              "    }\n",
              "\n",
              "    .dataframe thead th {\n",
              "        text-align: right;\n",
              "    }\n",
              "</style>\n",
              "<table border=\"1\" class=\"dataframe\">\n",
              "  <thead>\n",
              "    <tr style=\"text-align: right;\">\n",
              "      <th></th>\n",
              "      <th>count</th>\n",
              "    </tr>\n",
              "    <tr>\n",
              "      <th>alcohol</th>\n",
              "      <th></th>\n",
              "    </tr>\n",
              "  </thead>\n",
              "  <tbody>\n",
              "    <tr>\n",
              "      <th>(9.267, 9.7]</th>\n",
              "      <td>296</td>\n",
              "    </tr>\n",
              "    <tr>\n",
              "      <th>(9.7, 10.133]</th>\n",
              "      <td>178</td>\n",
              "    </tr>\n",
              "    <tr>\n",
              "      <th>(10.567, 11.0]</th>\n",
              "      <td>142</td>\n",
              "    </tr>\n",
              "    <tr>\n",
              "      <th>(10.133, 10.567]</th>\n",
              "      <td>131</td>\n",
              "    </tr>\n",
              "    <tr>\n",
              "      <th>(11.0, 11.433]</th>\n",
              "      <td>93</td>\n",
              "    </tr>\n",
              "    <tr>\n",
              "      <th>(8.833, 9.267]</th>\n",
              "      <td>88</td>\n",
              "    </tr>\n",
              "    <tr>\n",
              "      <th>(11.433, 11.867]</th>\n",
              "      <td>72</td>\n",
              "    </tr>\n",
              "    <tr>\n",
              "      <th>(11.867, 12.3]</th>\n",
              "      <td>57</td>\n",
              "    </tr>\n",
              "    <tr>\n",
              "      <th>(12.3, 12.733]</th>\n",
              "      <td>41</td>\n",
              "    </tr>\n",
              "    <tr>\n",
              "      <th>(12.733, 13.167]</th>\n",
              "      <td>21</td>\n",
              "    </tr>\n",
              "    <tr>\n",
              "      <th>(13.167, 13.6]</th>\n",
              "      <td>11</td>\n",
              "    </tr>\n",
              "    <tr>\n",
              "      <th>(8.394, 8.833]</th>\n",
              "      <td>6</td>\n",
              "    </tr>\n",
              "    <tr>\n",
              "      <th>(13.6, 14.033]</th>\n",
              "      <td>6</td>\n",
              "    </tr>\n",
              "    <tr>\n",
              "      <th>(14.467, 14.9]</th>\n",
              "      <td>1</td>\n",
              "    </tr>\n",
              "    <tr>\n",
              "      <th>(14.033, 14.467]</th>\n",
              "      <td>0</td>\n",
              "    </tr>\n",
              "  </tbody>\n",
              "</table>\n",
              "</div><br><label><b>dtype:</b> int64</label>"
            ]
          },
          "metadata": {},
          "execution_count": 44
        }
      ]
    },
    {
      "cell_type": "code",
      "source": [
        "ax = df[\"fixed acidity\"].plot.hist(density = True, xlim = [0,15], bins = range (1,15))\n",
        "df[\"fixed acidity\"].plot.density(ax=ax)"
      ],
      "metadata": {
        "colab": {
          "base_uri": "https://localhost:8080/",
          "height": 447
        },
        "id": "PXejbWZL0xua",
        "outputId": "cb494bbe-1851-4b48-b8a9-513486ffb704"
      },
      "execution_count": 47,
      "outputs": [
        {
          "output_type": "execute_result",
          "data": {
            "text/plain": [
              "<Axes: ylabel='Density'>"
            ]
          },
          "metadata": {},
          "execution_count": 47
        },
        {
          "output_type": "display_data",
          "data": {
            "text/plain": [
              "<Figure size 640x480 with 1 Axes>"
            ],
            "image/png": "[encoded data removed]"
          },
          "metadata": {}
        }
      ]
    },
    {
      "cell_type": "code",
      "source": [
        "ax = df[\"alcohol\"].plot.hist(density = True, xlim = [0,15], bins = range (1,15))\n",
        "df[\"alcohol\"].plot.density(ax=ax)"
      ],
      "metadata": {
        "colab": {
          "base_uri": "https://localhost:8080/",
          "height": 447
        },
        "id": "AamFuaET269f",
        "outputId": "4101b368-9ab3-45b9-fbfb-9ee935f1a7ee"
      },
      "execution_count": 48,
      "outputs": [
        {
          "output_type": "execute_result",
          "data": {
            "text/plain": [
              "<Axes: ylabel='Density'>"
            ]
          },
          "metadata": {},
          "execution_count": 48
        },
        {
          "output_type": "display_data",
          "data": {
            "text/plain": [
              "<Figure size 640x480 with 1 Axes>"
            ],
            "image/png": "[encoded data removed]"
          },
          "metadata": {}
        }
      ]
    },
    {
      "cell_type": "markdown",
      "source": [
        "**Preguntas**\n",
        "Responda las siguientes preguntas. Sobre Estimaciones de variabilidad\n",
        "\n",
        "a). Qué significa que la desviación estándar es casi dos veces mayor que la MAD?\n",
        "\n",
        "- La desviación estándar es sensible a los outliers, mientras que la MAD es una medida mucho más robusta y práctica ya que esta no se ve afectada por los valores atípicos.\n",
        "\n",
        "- Si la desviación estándar es aproximadamente el doble de la MAD, esto indica que hay muchos outliers en el dataset.\n",
        "\n",
        "b). Cómo puedo mejorar esta situación?\n",
        "\n",
        "- Normalización, balanceo y tratamiento de outliers. Se pueden aplicar ciertos tratamientos como los filloutliers, fillmissingdata y distintos tipos de normalización para abordar estos problemas.\n",
        "\n",
        "c). Explique el resultado obtenido al calcular IQR Sobre exploración en distribución de datos\n",
        "\n",
        "- El IQR representa la dispersión de la mitad central de los datos y es menos sensible a valores atípicos. Un valor alto de IQR da indicios de que hay una variación en los datos centrales. Al contrario, si se presenta un IQR bajo esto dice que los datos están más cerca a la mediana\n",
        "\n",
        "Qué información nos suministra los percentiles de tasa de homicidios por estados?\n",
        "\n",
        "- Percentil 25 (Q1): El 25% de los estados tienen una tasa de homicidios menor o igual a este valor.\n",
        "\n",
        "- Mediana (Percentil 50): El 50% de los estados tienen tasas de homicidios menores o iguales a este valor.\n",
        "\n",
        "-Percentil 75 (Q3): El 75% de los estados tienen una tasa de homicidios menor o igual a este valor.\n",
        "\n",
        "Explique con sus propias palabras qué información suministra el diagrama de caja con respecto a la tasa de homicidios por estado.\n",
        "\n",
        "- Un diagrama de caja o también llamado boxplot, nos proporciona una representación visual organizada de la distribución de las tasas de homicidios por estado:\n",
        "\n",
        "- Caja: Muestra el rango intercuartílico (IQR), que contiene el 50% central de los datos.\n",
        "\n",
        "- Línea dentro de la caja: Indica la mediana de las tasas de homicidios.\n",
        "\n",
        "- Bigotes: Se extienden hasta los valores mínimos y máximos descritos por la ecuación: 1.5*IQR desde los cuartiles.\n",
        "\n",
        "- Puntos fuera de los bigotes: Representan outliers.\n",
        "\n",
        "Cómo podría agregarse los estados que se encuentran en cada uno de los intervalos?\n",
        "\n",
        "Si no sabe la respuesta, complete la tabla de forma manual y postee su respuesta. Interprete los resultados obtenidos. Explique el resultado obtenido por el diagrama de dispersión.\n",
        "\n",
        "- No se aprecia una correlación lineal clara: No necesariamente relacionada a que hay mayor población o una tasa de homicidios más alta o más baja.\n",
        "\n",
        "- Los estados con poca población presentan mucha variabilidad en la tasa de homicidios.\n",
        "\n",
        "- Los estados con poblaciones más grandes tienden a tener tasas de homicidios en un rango medio, pero hay pocos datos para conclusiones definitivas.\n",
        "\n",
        "\n",
        "![image.png](data:image/png;base64,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)"
      ],
      "metadata": {
        "id": "JWuGW7A85laX"
      }
    },
    {
      "cell_type": "code",
      "source": [],
      "metadata": {
        "id": "jM4rYwCr5rpV"
      },
      "execution_count": null,
      "outputs": []
    }
  ]
}