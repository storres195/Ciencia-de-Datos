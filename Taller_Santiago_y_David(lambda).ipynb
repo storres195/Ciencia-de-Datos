{
  "nbformat": 4,
  "nbformat_minor": 0,
  "metadata": {
    "colab": {
      "provenance": []
    },
    "kernelspec": {
      "name": "python3",
      "display_name": "Python 3"
    },
    "language_info": {
      "name": "python"
    }
  },
  "cells": [
    {
      "cell_type": "markdown",
      "source": [
        "Profe este trabajo lo realice con mi compañero David Dominguez, ya que como te comentaba en clase él no tiene pc y aqui en la Biblioteca de la U ya tenian todos prestados"
      ],
      "metadata": {
        "id": "hi2tKD30y_i6"
      }
    },
    {
      "cell_type": "code",
      "execution_count": null,
      "metadata": {
        "colab": {
          "base_uri": "https://localhost:8080/"
        },
        "id": "qT1Ji01OqbYi",
        "outputId": "fd0add77-5675-4372-92ff-4160759a28d5"
      },
      "outputs": [
        {
          "output_type": "stream",
          "name": "stdout",
          "text": [
            "Ingrese el tamaño de la altura: 10\n",
            "ingrese el tamaño de la base:20\n",
            "El resultado es: \n",
            "100.0\n"
          ]
        }
      ],
      "source": [
        "base = int(input(\"Ingrese el tamaño de la altura: \"))\n",
        "altura = int(input(\"ingrese el tamaño de la base:\"))\n",
        "\n",
        "resultado = (base*altura)/2\n",
        "\n",
        "print(\"El resultado es: \")\n",
        "print(resultado)"
      ]
    },
    {
      "cell_type": "code",
      "source": [
        "print(\"Programa para convertir entre grados Celsius y Fahrenheit\")\n",
        "\n",
        "cel = int(input(\"Ingrese grados Celsius:\"))\n",
        "\n",
        "F = (cel*9/5)+32\n",
        "\n",
        "print(\"Los grados Fahrenheit son: \")\n",
        "print(F)\n"
      ],
      "metadata": {
        "colab": {
          "base_uri": "https://localhost:8080/"
        },
        "id": "7gmjZcfprX_i",
        "outputId": "8e724847-aab2-4767-ea11-af5138a9399f"
      },
      "execution_count": null,
      "outputs": [
        {
          "output_type": "stream",
          "name": "stdout",
          "text": [
            "Programa para convertir entre grados Celsius y Fahrenheit\n",
            "Ingrese grados Celsius:23\n",
            "Los grados Fahrenheit son: \n",
            "73.4\n"
          ]
        }
      ]
    },
    {
      "cell_type": "code",
      "source": [
        "print(\"Promedio de 3 numeros\")\n",
        "\n",
        "num1 = int(input(\"Numero 1:\"))\n",
        "num2 = int(input(\"Numero 2:\"))\n",
        "num3 = int(input(\"Numero 3:\"))\n",
        "\n",
        "promedio = (num1+num2+num3)/3\n",
        "\n",
        "print(\"El promedio es: \")\n",
        "print(promedio)"
      ],
      "metadata": {
        "colab": {
          "base_uri": "https://localhost:8080/"
        },
        "id": "KAEq30PIsBs9",
        "outputId": "8c5f4f32-81f6-438a-af0f-36aee3196918"
      },
      "execution_count": null,
      "outputs": [
        {
          "output_type": "stream",
          "name": "stdout",
          "text": [
            "Promedio de 3 numeros\n",
            "Numero 1:1\n",
            "Numero 2:1\n",
            "Numero 3:1\n",
            "El promedio es: \n",
            "1.0\n"
          ]
        }
      ]
    },
    {
      "cell_type": "code",
      "source": [
        "print(\"Area de un circulo dado su radio\")\n",
        "\n",
        "radio = int(input(\"Ingrese el radio:\"))\n",
        "\n",
        "area = 3.1416*(radio**2)\n",
        "perimetro = 2*3.1416*radio\n",
        "\n",
        "print(\"El area es: \")\n",
        "print(area)\n",
        "print(\"El perimetro es: \")\n",
        "print(perimetro)"
      ],
      "metadata": {
        "colab": {
          "base_uri": "https://localhost:8080/"
        },
        "id": "iBqDGRIqsTSx",
        "outputId": "68f67c70-920a-4583-e93c-25db0bff161d"
      },
      "execution_count": null,
      "outputs": [
        {
          "output_type": "stream",
          "name": "stdout",
          "text": [
            "Area de un circulo dado su radio\n",
            "Ingrese el radio:20\n",
            "El area es: \n",
            "1256.6399999999999\n",
            "El perimetro es: \n",
            "125.664\n"
          ]
        }
      ]
    },
    {
      "cell_type": "code",
      "source": [
        "import math\n",
        "\n",
        "print(\"Resolver ecuación cuadrática\")\n",
        "\n",
        "a = int(input(\"Valor de a: \"))\n",
        "b = int(input(\"Valor de b: \"))\n",
        "c = int(input(\"Valor de c: \"))\n",
        "\n",
        "res = b**2 - 4*a*c\n",
        "\n",
        "if res >= 0:\n",
        "    x1 = (-b + math.sqrt(res)) / (2*a)\n",
        "    x2 = (-b - math.sqrt(res)) / (2*a)\n",
        "    print(\"Las soluciones son: \", \"x1 =\", x1, \"y\", \"x2 = \", x2)\n",
        "else:\n",
        "    print(\"No hay soluciones reales.\")\n",
        "\n",
        "\n"
      ],
      "metadata": {
        "colab": {
          "base_uri": "https://localhost:8080/"
        },
        "id": "gXR7RIBUs0x9",
        "outputId": "93e669a1-95f7-42b9-82f7-348a8a4e0691"
      },
      "execution_count": null,
      "outputs": [
        {
          "output_type": "stream",
          "name": "stdout",
          "text": [
            "Resolver ecuación cuadrática\n",
            "Valor de a: 1\n",
            "Valor de b: 2\n",
            "Valor de c: 1\n",
            "Las soluciones son:  x1 = -1.0 y x2 =  -1.0\n"
          ]
        }
      ]
    },
    {
      "cell_type": "code",
      "source": [
        "print(\"programa par o impar \")\n",
        "\n",
        "numero = int(input(\"Introduce un número: \"))\n",
        "\n",
        "if numero % 2 == 0:\n",
        "    print(\"El número\", numero, \"es par.\")\n",
        "else:\n",
        "    print(\"El número\", numero, \"es impar.\")\n"
      ],
      "metadata": {
        "colab": {
          "base_uri": "https://localhost:8080/"
        },
        "id": "FnairZHgtxuj",
        "outputId": "681c7ec2-f226-4729-93ea-f55692da18cb"
      },
      "execution_count": null,
      "outputs": [
        {
          "output_type": "stream",
          "name": "stdout",
          "text": [
            "programa par o impar \n",
            "Introduce un número: 2\n",
            "El número 2 es par.\n"
          ]
        }
      ]
    },
    {
      "cell_type": "code",
      "source": [
        "print(\"Programa año bisiesto\")\n",
        "Año = int(input(\"Ingrese el año: \"))\n",
        "\n",
        "if Año % 4 == 0:\n",
        "    if Año % 100 == 0:\n",
        "        if Año % 400 == 0:\n",
        "            print(\"El año\", Año, \"es un año bisiesto.\")\n",
        "        else:\n",
        "            print(\"El año\", Año, \"no es un año bisiesto.\")\n",
        "    else:\n",
        "        print(\"El año\", Año, \"es un año bisiesto.\")\n",
        "else:\n",
        "    print(\"El año\", Año, \"no es un año bisiesto.\")\n"
      ],
      "metadata": {
        "colab": {
          "base_uri": "https://localhost:8080/"
        },
        "id": "OO5e74zeu3cG",
        "outputId": "ff265ea7-09fc-4696-bca6-aa3100708f56"
      },
      "execution_count": null,
      "outputs": [
        {
          "output_type": "stream",
          "name": "stdout",
          "text": [
            "Programa año bisiesto\n",
            "Ingrese el año: 2021\n",
            "El año 2021 no es un año bisiesto.\n"
          ]
        }
      ]
    },
    {
      "cell_type": "code",
      "source": [
        "print(\"Persona de la tercera edad\")\n",
        "nombre = input(\"Ingrese su nombre: \")\n",
        "edad = int(input(\"Ingrese su edad: \"))\n",
        "\n",
        "if edad >= 70:\n",
        "    print(\"Señor@:\",nombre,\"Tiene Prioridad en la Fila\")\n",
        "else:\n",
        "  print(\"Señor@:\",nombre,\"No tiene Prioridad en la Fila\")\n"
      ],
      "metadata": {
        "colab": {
          "base_uri": "https://localhost:8080/"
        },
        "id": "V9bFgdVjwDHT",
        "outputId": "e7e51b94-1675-44ce-cfad-51200d5a5698"
      },
      "execution_count": null,
      "outputs": [
        {
          "output_type": "stream",
          "name": "stdout",
          "text": [
            "Persona de la tercera edad\n",
            "Ingrese su nombre: santiago\n",
            "Ingrese su edad: 90\n",
            "Señor@: santiago Tiene Prioridad en la Fila\n"
          ]
        }
      ]
    },
    {
      "cell_type": "code",
      "source": [
        "print(\"Comparación de numeros\")\n",
        "numero1 = int(input(\"Introduce el primer número: \"))\n",
        "numero2 = int(input(\"Introduce el segundo número: \"))\n",
        "numero3 = int(input(\"Introduce el tercer número: \"))\n",
        "\n",
        "if numero1 >= numero2 and numero1 >= numero3:\n",
        "    print(\"El mayor número es:\", numero1)\n",
        "elif numero2 >= numero1 and numero2 >= numero3:\n",
        "    print(\"El mayor número es:\", numero2)\n",
        "else:\n",
        "    print(\"El mayor número es:\", numero3)\n"
      ],
      "metadata": {
        "colab": {
          "base_uri": "https://localhost:8080/"
        },
        "id": "13lFQsUdwI1O",
        "outputId": "ec7da46e-de4d-454c-99eb-9d3de22c8330"
      },
      "execution_count": null,
      "outputs": [
        {
          "output_type": "stream",
          "name": "stdout",
          "text": [
            "Comparación de numeros\n",
            "Introduce el primer número: 90\n",
            "Introduce el segundo número: 90\n",
            "Introduce el tercer número: 91\n",
            "El mayor número es: 91\n"
          ]
        }
      ]
    },
    {
      "cell_type": "code",
      "source": [
        "print(\"Programa Triangulo\")\n",
        "LadoA = int(input(\"Ingrese el tamaño del lado A: \"))\n",
        "LadoB = int(input(\"Ingrese el tamaño del lado B: \"))\n",
        "LadoC = int(input(\"Ingrese el tamaño del lado C: \"))\n",
        "\n",
        "if LadoA == LadoB == LadoC:\n",
        "    print(\"El triángulo es equilátero.\")\n",
        "    if LadoA == LadoB or LadoA == LadoC or LadoB == LadoC:\n",
        "        print(\"El triángulo es isósceles.\")\n",
        "    else:\n",
        "        print(\"El triángulo es escaleno.\")\n"
      ],
      "metadata": {
        "colab": {
          "base_uri": "https://localhost:8080/"
        },
        "id": "XlYvxgGIxeds",
        "outputId": "2ed82cc8-9fe9-4334-e466-f8405c8747d2"
      },
      "execution_count": null,
      "outputs": [
        {
          "name": "stdout",
          "output_type": "stream",
          "text": [
            "Programa Triangulo\n",
            "Ingrese el tamaño del lado A: 10\n",
            "Ingrese el tamaño del lado B: 10\n",
            "Ingrese el tamaño del lado C: 11\n"
          ]
        }
      ]
    },
    {
      "cell_type": "code",
      "source": [
        "\n",
        "print(\"Programa Masa Corporal\")\n",
        "nombre = input(\"Introduce tu nombre: \")\n",
        "peso = float(input(\"Introduce tu peso en kg: \"))\n",
        "altura = float(input(\"Introduce tu altura en metros: \"))\n",
        "\n",
        "IMC = peso / (altura ** 2)\n",
        "if IMC < 18.5:\n",
        "    categoria = \"Bajo peso\"\n",
        "    descripcion = \"Debes considerar aumentar tu ingesta calórica y realizar actividad física para ganar masa muscular.\"\n",
        "elif 18.5 <= IMC < 24.9:\n",
        "    categoria = \"Normal\"\n",
        "    descripcion = \"Tu peso es saludable. Mantén una dieta equilibrada y realiza ejercicio regularmente.\"\n",
        "elif 25 <= IMC < 29.9:\n",
        "    categoria = \"Sobrepeso\"\n",
        "    descripcion = \"Es recomendable que consideres hacer ajustes en tu dieta y realizar más ejercicio para evitar problemas de salud.\"\n",
        "else:\n",
        "    categoria = \"Obesidad\"\n",
        "    descripcion = \"Es importante que consultes a un médico para recibir orientación sobre una dieta adecuada y ejercicio físico.\"\n",
        "\n",
        "print(nombre, \"tu IMC es:\", IMC)\n",
        "print(\"Categoría:\", categoria)\n",
        "print(descripcion)\n",
        "\n"
      ],
      "metadata": {
        "colab": {
          "base_uri": "https://localhost:8080/"
        },
        "id": "n99rURiZy6Qx",
        "outputId": "b2315a06-9d03-49c6-b203-2095906f86f9"
      },
      "execution_count": null,
      "outputs": [
        {
          "output_type": "stream",
          "name": "stdout",
          "text": [
            "Programa Masa Corporal\n",
            "Introduce tu nombre: santigo\n",
            "Introduce tu peso en kg: 55\n",
            "Introduce tu altura en metros: 1.80\n",
            "santigo tu IMC es: 16.975308641975307\n",
            "Categoría: Bajo peso\n",
            "Debes considerar aumentar tu ingesta calórica y realizar actividad física para ganar masa muscular.\n"
          ]
        }
      ]
    },
    {
      "cell_type": "code",
      "source": [
        "print(\"Calculadora\")\n",
        "num1 = float(input(\"Ingrese el número A: \"))\n",
        "num2 = float(input(\"Ingrese el número B:\"))\n",
        "operador = input(\"Ingrese el operador (+, -, *, /): \")\n",
        "\n",
        "if operador == \"+\":\n",
        "    resultado = num1 + num2\n",
        "elif operador == \"-\":\n",
        "    resultado = num1 - num2\n",
        "elif operador == \"*\":\n",
        "    resultado = num1 * num2\n",
        "elif operador == \"/\":\n",
        "    resultado = num1 / num2\n",
        "    if num2 != 0:\n",
        "        resultado = num1 / num2\n",
        "    else:\n",
        "        print(\"Error: No se puede dividir entre cero.\")\n",
        "        resultado = None\n",
        "else:\n",
        "    print(resultado)\n",
        "    print(\"Operador no válido.\")\n",
        "\n",
        "if resultado is not None:\n",
        "    print(\"El resultado es:\", resultado)\n"
      ],
      "metadata": {
        "colab": {
          "base_uri": "https://localhost:8080/"
        },
        "id": "PubvJZ-5a_-L",
        "outputId": "55723130-eced-4bba-f909-37c3f7492e94"
      },
      "execution_count": null,
      "outputs": [
        {
          "output_type": "stream",
          "name": "stdout",
          "text": [
            "Calculadora\n",
            "Ingrese el número A: 5\n",
            "Ingrese el número B:6\n",
            "Ingrese el operador (+, -, *, /): *\n",
            "El resultado es: 30.0\n"
          ]
        }
      ]
    },
    {
      "cell_type": "code",
      "source": [
        "print(\"Calificación en letras según letra numérica\")\n",
        "\n",
        "calificacion = int(input(\"Ingrese la calificación numérica: \"))\n",
        "\n",
        "if calificacion == 100:\n",
        "  print(\"Tiene una A\")\n",
        "elif calificacion >= 90:\n",
        "  print(\"Tiene una B\")\n",
        "elif calificacion >= 80:\n",
        "  print(\"Tiene una C\")\n",
        "elif calificacion >= 70:\n",
        "  print(\"Tiene una D\")\n",
        "elif calificacion  >= 60:\n",
        "  print(\"Tiene una F\")"
      ],
      "metadata": {
        "colab": {
          "base_uri": "https://localhost:8080/"
        },
        "id": "BcsNCpptb6nJ",
        "outputId": "4a97c5ba-2059-4a1a-c32d-f37e0d76ec47"
      },
      "execution_count": null,
      "outputs": [
        {
          "name": "stdout",
          "output_type": "stream",
          "text": [
            "Calificación en letras según letra numérica\n",
            "Ingrese la calificación numérica: 62\n"
          ]
        }
      ]
    },
    {
      "cell_type": "code",
      "source": [
        "print(\"Día semana\")\n",
        "\n",
        "dia = int(input(\"Ingrese la calificación numérica: \"))\n",
        "\n",
        "if dia == 1:\n",
        "  print(\"Lunes\")\n",
        "elif dia == 2:\n",
        "  print(\"Martes\")\n",
        "elif dia == 3:\n",
        "  print(\"Miércoles\")\n",
        "elif dia == 4:\n",
        "  print(\"Jueves\")\n",
        "elif dia  == 5:\n",
        "  print(\"Viernes\")\n",
        "elif dia == 6:\n",
        "  print(\"Sábado\")\n",
        "elif dia  == 7:\n",
        "  print(\"Domingo\")"
      ],
      "metadata": {
        "colab": {
          "base_uri": "https://localhost:8080/"
        },
        "id": "xCnDfTnGc0HQ",
        "outputId": "51f3c1fb-a9ad-4fa8-8a08-780b849e0240"
      },
      "execution_count": null,
      "outputs": [
        {
          "output_type": "stream",
          "name": "stdout",
          "text": [
            "Día semana\n",
            "Ingrese la calificación numérica: 5\n",
            "Viernes\n"
          ]
        }
      ]
    },
    {
      "cell_type": "code",
      "source": [
        "# Solicitar al usuario que ingrese los tres números\n",
        "a = float(input(\"Ingresa el primer número: \"))\n",
        "b = float(input(\"Ingresa el segundo número: \"))\n",
        "c = float(input(\"Ingresa el tercer número: \"))\n",
        "\n",
        "# Validar si pueden formar un triángulo\n",
        "if a + b > c and a + c > b and b + c > a:\n",
        "    print(\"Sí pueden formar un triángulo.\")\n",
        "\n",
        "    # Determinar el tipo de triángulo\n",
        "    if a == b == c:\n",
        "        print(\"Es un triángulo equilátero.\")\n",
        "    elif a == b or a == c or b == c:\n",
        "        print(\"Es un triángulo isósceles.\")\n",
        "    else:\n",
        "        print(\"Es un triángulo escaleno.\")\n",
        "else:\n",
        "    print(\"No pueden formar un triángulo.\")"
      ],
      "metadata": {
        "colab": {
          "base_uri": "https://localhost:8080/"
        },
        "id": "qEtP9a3NdVXw",
        "outputId": "c5985579-e72f-4371-8453-ae649a66c40c"
      },
      "execution_count": null,
      "outputs": [
        {
          "output_type": "stream",
          "name": "stdout",
          "text": [
            "Ingresa el primer número: 5\n",
            "Ingresa el segundo número: 2.3\n",
            "Ingresa el tercer número: 5\n",
            "Sí pueden formar un triángulo.\n",
            "Es un triángulo isósceles.\n"
          ]
        }
      ]
    },
    {
      "cell_type": "code",
      "source": [
        "import random\n",
        "\n",
        "num = random.randint(1, 10)\n",
        "\n",
        "for i in range(0, 11):\n",
        "    res = num * i\n",
        "    print(res)"
      ],
      "metadata": {
        "colab": {
          "base_uri": "https://localhost:8080/"
        },
        "id": "7lOaZARbeCSr",
        "outputId": "1ba051cc-279b-4347-f443-a2a81a7f95c6"
      },
      "execution_count": null,
      "outputs": [
        {
          "output_type": "stream",
          "name": "stdout",
          "text": [
            "0\n",
            "8\n",
            "16\n",
            "24\n",
            "32\n",
            "40\n",
            "48\n",
            "56\n",
            "64\n",
            "72\n",
            "80\n"
          ]
        }
      ]
    },
    {
      "cell_type": "code",
      "source": [
        "import random\n",
        "\n",
        "print(\"Suma números naturales\")\n",
        "\n",
        "num = random.randint(1,10)\n",
        "\n",
        "for i in range(0, num):\n",
        "  res = num+i\n",
        "  print(res)"
      ],
      "metadata": {
        "colab": {
          "base_uri": "https://localhost:8080/"
        },
        "id": "T2AL_LoRfDio",
        "outputId": "8a1899bc-f33d-4752-cf5b-62ff2537d53f"
      },
      "execution_count": null,
      "outputs": [
        {
          "output_type": "stream",
          "name": "stdout",
          "text": [
            "Suma números naturales\n",
            "3\n",
            "4\n",
            "5\n"
          ]
        }
      ]
    },
    {
      "cell_type": "code",
      "source": [
        "print(\"Cálculo número factorial\")\n",
        "\n",
        "num = int(input(\"Ingresa un número entero positivo: \"))\n",
        "\n",
        "if num < 0:\n",
        "    print(\"El número debe ser positivo.\")\n",
        "else:\n",
        "    fact = 1\n",
        "\n",
        "    for i in range(1, num + 1):\n",
        "        fact *= i\n",
        "\n",
        "    print(\"El factorial de \", num, \" es: \", fact)"
      ],
      "metadata": {
        "colab": {
          "base_uri": "https://localhost:8080/"
        },
        "id": "fWL13Jl7fl78",
        "outputId": "40fcce65-7797-4fa7-eed6-f562c1cc74c6"
      },
      "execution_count": null,
      "outputs": [
        {
          "output_type": "stream",
          "name": "stdout",
          "text": [
            "Cálculo número factorial\n",
            "Ingresa un número entero positivo: 5\n",
            "El factorial de  5  es:  120\n"
          ]
        }
      ]
    },
    {
      "cell_type": "code",
      "source": [
        "print(\"Programa serie fibonacci\")\n",
        "\n",
        "n = int(input(\"Ingresa cuántos números de la serie Fibonacci quieres ver: \"))\n",
        "\n",
        "a, b = 0, 1\n",
        "\n",
        "print(\"Los primeros\", n, \"números de la serie Fibonacci son:\")\n",
        "\n",
        "for i in range(n):\n",
        "    print(a, end=\" \")\n",
        "    a, b = b, a + b"
      ],
      "metadata": {
        "colab": {
          "base_uri": "https://localhost:8080/"
        },
        "id": "JeqtpVGohUil",
        "outputId": "86c7d26c-325d-4dce-ff02-968bce9cc900"
      },
      "execution_count": null,
      "outputs": [
        {
          "output_type": "stream",
          "name": "stdout",
          "text": [
            "Programa serie fibonacci\n",
            "Ingresa cuántos números de la serie Fibonacci quieres ver: 5\n",
            "Los primeros 5 números de la serie Fibonacci son:\n",
            "0 1 1 2 3 "
          ]
        }
      ]
    },
    {
      "cell_type": "code",
      "source": [
        "import random\n",
        "\n",
        "print(\"Adivinanza colores\")\n",
        "\n",
        "colores = []\n",
        "\n",
        "for i in range(10):\n",
        "    color = input(f\"Ingresa el color {i + 1}: \").strip().lower()\n",
        "    colores.append(color)\n",
        "\n",
        "color_secreto = random.choice(colores)\n",
        "\n",
        "intentos = 0\n",
        "max_intentos = 10\n",
        "\n",
        "print(\"¡El programa intentará adivinar el color secreto!\")\n",
        "\n",
        "while intentos < max_intentos:\n",
        "    intentos += 1\n",
        "    print(f\"\\nIntento {intentos}:\")\n",
        "\n",
        "    intento = random.choice(colores)\n",
        "    print(f\"El programa piensa que el color secreto es: {intento}\")\n",
        "\n",
        "    if intento == color_secreto:\n",
        "        print(f\"¡El programa adivinó el color secreto '{color_secreto}' en {intentos} intentos!\")\n",
        "        break\n",
        "    else:\n",
        "        print(\"Incorrecto. Intentando de nuevo...\")\n",
        "a\n",
        "if intentos == max_intentos:\n",
        "    print(f\"\\nEl programa no pudo adivinar el color secreto '{color_secreto}' en {max_intentos} intentos.\")"
      ],
      "metadata": {
        "colab": {
          "base_uri": "https://localhost:8080/"
        },
        "id": "BG3q53tzhtdn",
        "outputId": "0ca84aa2-ce5c-414d-bb83-fb8544b059be"
      },
      "execution_count": null,
      "outputs": [
        {
          "output_type": "stream",
          "name": "stdout",
          "text": [
            "Adivinanza colores\n",
            "Ingresa el color 1: rojo\n",
            "Ingresa el color 2: marron\n",
            "Ingresa el color 3: verde\n",
            "Ingresa el color 4: amarillo\n",
            "Ingresa el color 5: rosado\n",
            "Ingresa el color 6: morado\n",
            "Ingresa el color 7: cyan\n",
            "Ingresa el color 8: blanco\n",
            "Ingresa el color 9: negro\n",
            "Ingresa el color 10: azul\n",
            "¡El programa intentará adivinar el color secreto!\n",
            "\n",
            "Intento 1:\n",
            "El programa piensa que el color secreto es: morado\n",
            "Incorrecto. Intentando de nuevo...\n",
            "\n",
            "Intento 2:\n",
            "El programa piensa que el color secreto es: cyan\n",
            "Incorrecto. Intentando de nuevo...\n",
            "\n",
            "Intento 3:\n",
            "El programa piensa que el color secreto es: verde\n",
            "Incorrecto. Intentando de nuevo...\n",
            "\n",
            "Intento 4:\n",
            "El programa piensa que el color secreto es: marron\n",
            "Incorrecto. Intentando de nuevo...\n",
            "\n",
            "Intento 5:\n",
            "El programa piensa que el color secreto es: cyan\n",
            "Incorrecto. Intentando de nuevo...\n",
            "\n",
            "Intento 6:\n",
            "El programa piensa que el color secreto es: azul\n",
            "Incorrecto. Intentando de nuevo...\n",
            "\n",
            "Intento 7:\n",
            "El programa piensa que el color secreto es: blanco\n",
            "Incorrecto. Intentando de nuevo...\n",
            "\n",
            "Intento 8:\n",
            "El programa piensa que el color secreto es: negro\n",
            "¡El programa adivinó el color secreto 'negro' en 8 intentos!\n"
          ]
        }
      ]
    },
    {
      "cell_type": "code",
      "source": [
        "print(\"Números pares del 1 al 100\")\n",
        "\n",
        "for i in range(1, 101):  # range(1, 101) para incluir del 1 al 100\n",
        "    if i % 2 == 0:  # Verificar si el número es par\n",
        "        print(\"El número\", i, \"es par\")\n",
        "    else:\n",
        "        print(\"El número\", i, \"es impar\")"
      ],
      "metadata": {
        "colab": {
          "base_uri": "https://localhost:8080/"
        },
        "id": "H1_8xxSdjESB",
        "outputId": "0f9ee008-8557-4ef8-b4f9-ab533a408725"
      },
      "execution_count": null,
      "outputs": [
        {
          "output_type": "stream",
          "name": "stdout",
          "text": [
            "Números pares del 1 al 100\n",
            "El número 1 es impar\n",
            "El número 2 es par\n",
            "El número 3 es impar\n",
            "El número 4 es par\n",
            "El número 5 es impar\n",
            "El número 6 es par\n",
            "El número 7 es impar\n",
            "El número 8 es par\n",
            "El número 9 es impar\n",
            "El número 10 es par\n",
            "El número 11 es impar\n",
            "El número 12 es par\n",
            "El número 13 es impar\n",
            "El número 14 es par\n",
            "El número 15 es impar\n",
            "El número 16 es par\n",
            "El número 17 es impar\n",
            "El número 18 es par\n",
            "El número 19 es impar\n",
            "El número 20 es par\n",
            "El número 21 es impar\n",
            "El número 22 es par\n",
            "El número 23 es impar\n",
            "El número 24 es par\n",
            "El número 25 es impar\n",
            "El número 26 es par\n",
            "El número 27 es impar\n",
            "El número 28 es par\n",
            "El número 29 es impar\n",
            "El número 30 es par\n",
            "El número 31 es impar\n",
            "El número 32 es par\n",
            "El número 33 es impar\n",
            "El número 34 es par\n",
            "El número 35 es impar\n",
            "El número 36 es par\n",
            "El número 37 es impar\n",
            "El número 38 es par\n",
            "El número 39 es impar\n",
            "El número 40 es par\n",
            "El número 41 es impar\n",
            "El número 42 es par\n",
            "El número 43 es impar\n",
            "El número 44 es par\n",
            "El número 45 es impar\n",
            "El número 46 es par\n",
            "El número 47 es impar\n",
            "El número 48 es par\n",
            "El número 49 es impar\n",
            "El número 50 es par\n",
            "El número 51 es impar\n",
            "El número 52 es par\n",
            "El número 53 es impar\n",
            "El número 54 es par\n",
            "El número 55 es impar\n",
            "El número 56 es par\n",
            "El número 57 es impar\n",
            "El número 58 es par\n",
            "El número 59 es impar\n",
            "El número 60 es par\n",
            "El número 61 es impar\n",
            "El número 62 es par\n",
            "El número 63 es impar\n",
            "El número 64 es par\n",
            "El número 65 es impar\n",
            "El número 66 es par\n",
            "El número 67 es impar\n",
            "El número 68 es par\n",
            "El número 69 es impar\n",
            "El número 70 es par\n",
            "El número 71 es impar\n",
            "El número 72 es par\n",
            "El número 73 es impar\n",
            "El número 74 es par\n",
            "El número 75 es impar\n",
            "El número 76 es par\n",
            "El número 77 es impar\n",
            "El número 78 es par\n",
            "El número 79 es impar\n",
            "El número 80 es par\n",
            "El número 81 es impar\n",
            "El número 82 es par\n",
            "El número 83 es impar\n",
            "El número 84 es par\n",
            "El número 85 es impar\n",
            "El número 86 es par\n",
            "El número 87 es impar\n",
            "El número 88 es par\n",
            "El número 89 es impar\n",
            "El número 90 es par\n",
            "El número 91 es impar\n",
            "El número 92 es par\n",
            "El número 93 es impar\n",
            "El número 94 es par\n",
            "El número 95 es impar\n",
            "El número 96 es par\n",
            "El número 97 es impar\n",
            "El número 98 es par\n",
            "El número 99 es impar\n",
            "El número 100 es par\n"
          ]
        }
      ]
    },
    {
      "cell_type": "code",
      "source": [
        "print(\"Programa que calcule la suma de los dígitos de un número.\")\n",
        "\n",
        "numero = input(\"Ingresa un número: \")\n",
        "suma = 0\n",
        "\n",
        "for digito in numero:\n",
        "  suma += int(digito)\n",
        "  print(f\"La suma de los dígitos de {numero} es: {suma}\")"
      ],
      "metadata": {
        "colab": {
          "base_uri": "https://localhost:8080/"
        },
        "id": "Bsf2LLrIjm6k",
        "outputId": "86a0ba7c-8471-4ee0-9835-8345a5ce5114"
      },
      "execution_count": null,
      "outputs": [
        {
          "output_type": "stream",
          "name": "stdout",
          "text": [
            "Programa que calcule la suma de los dígitos de un número.\n",
            "Ingresa un número: 456\n",
            "La suma de los dígitos de 456 es: 4\n",
            "La suma de los dígitos de 456 es: 9\n",
            "La suma de los dígitos de 456 es: 15\n"
          ]
        }
      ]
    },
    {
      "cell_type": "code",
      "source": [
        "print(\"Programa número primo\")\n",
        "\n",
        "numero = int(input(\"Ingresa un número: \"))\n",
        "\n",
        "if numero <= 1:\n",
        "    print(numero, \" no es un número primo.\")\n",
        "else:\n",
        "    es_primo = True\n",
        "    for i in range(2, int(numero**0.5) + 1):\n",
        "        if numero % i == 0:\n",
        "            es_primo = False\n",
        "            break\n",
        "\n",
        "    if es_primo:\n",
        "        print(f\"{numero} es un número primo.\")\n",
        "    else:\n",
        "        print(f\"{numero} no es un número primo.\")"
      ],
      "metadata": {
        "colab": {
          "base_uri": "https://localhost:8080/"
        },
        "id": "MkDf96hQj9gF",
        "outputId": "5a05cc7b-2a16-4471-c8ce-63628a6099f5"
      },
      "execution_count": null,
      "outputs": [
        {
          "output_type": "stream",
          "name": "stdout",
          "text": [
            "Programa número primo\n",
            "Ingresa un número: 5\n",
            "5 es un número primo.\n"
          ]
        }
      ]
    },
    {
      "cell_type": "code",
      "source": [
        "print(\"el patrón de un triángulo con asteriscos\")\n",
        "def triangulo_con_while(n):\n",
        "    i = 1\n",
        "    while i <= n:  # Ciclo para las filas\n",
        "        j = 1\n",
        "        while j <= i:  # Ciclo para imprimir los asteriscos en cada fila\n",
        "            print(\"*\", end=\"\")\n",
        "            j += 1\n",
        "        print()  # Salto de línea después de cada fila\n",
        "        i += 1\n",
        "\n",
        "n = int(input(\"Ingrese el número de filas para el triángulo: \"))\n",
        "triangulo_con_while(n)"
      ],
      "metadata": {
        "id": "CW41rbgUkTTY",
        "colab": {
          "base_uri": "https://localhost:8080/"
        },
        "outputId": "7dbc5ea4-adc7-4b6e-9faa-fba89f06a4f7"
      },
      "execution_count": null,
      "outputs": [
        {
          "output_type": "stream",
          "name": "stdout",
          "text": [
            "el patrón de un triángulo con asteriscos\n",
            "Ingrese el número de filas para el triángulo: 15\n",
            "*\n",
            "**\n",
            "***\n",
            "****\n",
            "*****\n",
            "******\n",
            "*******\n",
            "********\n",
            "*********\n",
            "**********\n",
            "***********\n",
            "************\n",
            "*************\n",
            "**************\n",
            "***************\n"
          ]
        }
      ]
    },
    {
      "cell_type": "code",
      "source": [
        "print(\"la potencia de un número sin usar el operador\")\n",
        "def potencia_con_while(base, exponente):\n",
        "    resultado = 1\n",
        "    contador = 0\n",
        "    while contador < exponente:  # Multiplicar la base \"exponente\" veces\n",
        "        resultado *= base\n",
        "        contador += 1\n",
        "    return resultado\n",
        "\n",
        "base = int(input(\"Ingrese la base: \"))\n",
        "exponente = int(input(\"Ingrese el exponente: \"))\n",
        "print(f\"{base} elevado a {exponente} es: {potencia_con_while(base, exponente)}\")"
      ],
      "metadata": {
        "colab": {
          "base_uri": "https://localhost:8080/"
        },
        "id": "yG0mSG4RlMDD",
        "outputId": "5bb8f18a-afcd-49d8-eda3-a660750c2b2f"
      },
      "execution_count": null,
      "outputs": [
        {
          "output_type": "stream",
          "name": "stdout",
          "text": [
            "la potencia de un número sin usar el operador\n",
            "Ingrese la base: 2\n",
            "Ingrese el exponente: 2\n",
            "2 elevado a 2 es: 4\n"
          ]
        }
      ]
    },
    {
      "cell_type": "code",
      "source": [
        "print(\"Tablas de multiplicar 1 al 10\")\n",
        "def mostrar_tablas_multiplicar():\n",
        "    for i in range(1, 11):\n",
        "        print(f\"Tabla del {i}:\")\n",
        "        for j in range(1, 11):\n",
        "            print(f\"{i} x {j} = {i * j}\")\n",
        "        print()  # Salto de línea entre tablas\n",
        "\n",
        "mostrar_tablas_multiplicar()"
      ],
      "metadata": {
        "colab": {
          "base_uri": "https://localhost:8080/"
        },
        "collapsed": true,
        "id": "spqbSfUElZ4Z",
        "outputId": "7ccc3287-1003-4ed3-90fa-8a0b37db3eb7"
      },
      "execution_count": null,
      "outputs": [
        {
          "output_type": "stream",
          "name": "stdout",
          "text": [
            "Tablas de multiplicar 1 al 10\n",
            "Tabla del 1:\n",
            "1 x 1 = 1\n",
            "1 x 2 = 2\n",
            "1 x 3 = 3\n",
            "1 x 4 = 4\n",
            "1 x 5 = 5\n",
            "1 x 6 = 6\n",
            "1 x 7 = 7\n",
            "1 x 8 = 8\n",
            "1 x 9 = 9\n",
            "1 x 10 = 10\n",
            "\n",
            "Tabla del 2:\n",
            "2 x 1 = 2\n",
            "2 x 2 = 4\n",
            "2 x 3 = 6\n",
            "2 x 4 = 8\n",
            "2 x 5 = 10\n",
            "2 x 6 = 12\n",
            "2 x 7 = 14\n",
            "2 x 8 = 16\n",
            "2 x 9 = 18\n",
            "2 x 10 = 20\n",
            "\n",
            "Tabla del 3:\n",
            "3 x 1 = 3\n",
            "3 x 2 = 6\n",
            "3 x 3 = 9\n",
            "3 x 4 = 12\n",
            "3 x 5 = 15\n",
            "3 x 6 = 18\n",
            "3 x 7 = 21\n",
            "3 x 8 = 24\n",
            "3 x 9 = 27\n",
            "3 x 10 = 30\n",
            "\n",
            "Tabla del 4:\n",
            "4 x 1 = 4\n",
            "4 x 2 = 8\n",
            "4 x 3 = 12\n",
            "4 x 4 = 16\n",
            "4 x 5 = 20\n",
            "4 x 6 = 24\n",
            "4 x 7 = 28\n",
            "4 x 8 = 32\n",
            "4 x 9 = 36\n",
            "4 x 10 = 40\n",
            "\n",
            "Tabla del 5:\n",
            "5 x 1 = 5\n",
            "5 x 2 = 10\n",
            "5 x 3 = 15\n",
            "5 x 4 = 20\n",
            "5 x 5 = 25\n",
            "5 x 6 = 30\n",
            "5 x 7 = 35\n",
            "5 x 8 = 40\n",
            "5 x 9 = 45\n",
            "5 x 10 = 50\n",
            "\n",
            "Tabla del 6:\n",
            "6 x 1 = 6\n",
            "6 x 2 = 12\n",
            "6 x 3 = 18\n",
            "6 x 4 = 24\n",
            "6 x 5 = 30\n",
            "6 x 6 = 36\n",
            "6 x 7 = 42\n",
            "6 x 8 = 48\n",
            "6 x 9 = 54\n",
            "6 x 10 = 60\n",
            "\n",
            "Tabla del 7:\n",
            "7 x 1 = 7\n",
            "7 x 2 = 14\n",
            "7 x 3 = 21\n",
            "7 x 4 = 28\n",
            "7 x 5 = 35\n",
            "7 x 6 = 42\n",
            "7 x 7 = 49\n",
            "7 x 8 = 56\n",
            "7 x 9 = 63\n",
            "7 x 10 = 70\n",
            "\n",
            "Tabla del 8:\n",
            "8 x 1 = 8\n",
            "8 x 2 = 16\n",
            "8 x 3 = 24\n",
            "8 x 4 = 32\n",
            "8 x 5 = 40\n",
            "8 x 6 = 48\n",
            "8 x 7 = 56\n",
            "8 x 8 = 64\n",
            "8 x 9 = 72\n",
            "8 x 10 = 80\n",
            "\n",
            "Tabla del 9:\n",
            "9 x 1 = 9\n",
            "9 x 2 = 18\n",
            "9 x 3 = 27\n",
            "9 x 4 = 36\n",
            "9 x 5 = 45\n",
            "9 x 6 = 54\n",
            "9 x 7 = 63\n",
            "9 x 8 = 72\n",
            "9 x 9 = 81\n",
            "9 x 10 = 90\n",
            "\n",
            "Tabla del 10:\n",
            "10 x 1 = 10\n",
            "10 x 2 = 20\n",
            "10 x 3 = 30\n",
            "10 x 4 = 40\n",
            "10 x 5 = 50\n",
            "10 x 6 = 60\n",
            "10 x 7 = 70\n",
            "10 x 8 = 80\n",
            "10 x 9 = 90\n",
            "10 x 10 = 100\n",
            "\n"
          ]
        }
      ]
    },
    {
      "cell_type": "code",
      "source": [
        "print(\"números perfectos hasta n\")\n",
        "def es_numero_perfecto(num):\n",
        "    suma_divisores = 0\n",
        "    for i in range(1, num):\n",
        "        if num % i == 0:\n",
        "            suma_divisores += i\n",
        "    return suma_divisores == num\n",
        "\n",
        "def encontrar_numeros_perfectos(n):\n",
        "    numeros_perfectos = []\n",
        "    for i in range(1, n + 1):\n",
        "        if es_numero_perfecto(i):\n",
        "            numeros_perfectos.append(i)\n",
        "    return numeros_perfectos\n",
        "\n",
        "n = int(input(\"Ingrese un número n: \"))\n",
        "print(f\"Números perfectos hasta {n}: {encontrar_numeros_perfectos(n)}\")"
      ],
      "metadata": {
        "colab": {
          "base_uri": "https://localhost:8080/"
        },
        "id": "k17uUsRzlnDf",
        "outputId": "0ddbc0e9-27dc-48c5-f7b9-e316be4b41b3"
      },
      "execution_count": null,
      "outputs": [
        {
          "output_type": "stream",
          "name": "stdout",
          "text": [
            "números perfectos hasta n\n",
            "Ingrese un número n: 100\n",
            "Números perfectos hasta 100: [6, 28]\n"
          ]
        }
      ]
    },
    {
      "cell_type": "code",
      "source": [
        "print(\"diamante con asteriscos\")\n",
        "def generar_diamante(n):\n",
        "    for i in range(n):\n",
        "        print(\" \" * (n - i - 1) + \"*\" * (2 * i + 1))\n",
        "    for i in range(n - 2, -1, -1):\n",
        "        print(\" \" * (n - i - 1) + \"*\" * (2 * i + 1))\n",
        "\n",
        "n = int(input(\"Ingrese el tamaño del diamante: \"))\n",
        "generar_diamante(n)"
      ],
      "metadata": {
        "colab": {
          "base_uri": "https://localhost:8080/"
        },
        "id": "uLBpevaIlzoG",
        "outputId": "f20ac825-bf61-4394-b3b9-ec80edfc10ff"
      },
      "execution_count": null,
      "outputs": [
        {
          "output_type": "stream",
          "name": "stdout",
          "text": [
            "diamante con asteriscos\n",
            "Ingrese el tamaño del diamante: 5\n",
            "    *\n",
            "   ***\n",
            "  *****\n",
            " *******\n",
            "*********\n",
            " *******\n",
            "  *****\n",
            "   ***\n",
            "    *\n"
          ]
        }
      ]
    },
    {
      "cell_type": "code",
      "source": [
        "print(\"números Armstrong hasta n\")\n",
        "def es_numero_armstrong(num):\n",
        "    digitos = [int(d) for d in str(num)]\n",
        "    longitud = len(digitos)\n",
        "    suma = sum([d ** longitud for d in digitos])\n",
        "    return suma == num\n",
        "\n",
        "def encontrar_numeros_armstrong(n):\n",
        "    numeros_armstrong = []\n",
        "    for i in range(1, n + 1):\n",
        "        if es_numero_armstrong(i):\n",
        "            numeros_armstrong.append(i)\n",
        "    return numeros_armstrong\n",
        "\n",
        "n = int(input(\"Ingrese un número n: \"))\n",
        "print(f\"Números Armstrong hasta {n}: {encontrar_numeros_armstrong(n)}\")"
      ],
      "metadata": {
        "colab": {
          "base_uri": "https://localhost:8080/"
        },
        "id": "FZLiWqPnmCwb",
        "outputId": "524bde32-5d94-49f5-a5a0-eb32bbc74609"
      },
      "execution_count": null,
      "outputs": [
        {
          "output_type": "stream",
          "name": "stdout",
          "text": [
            "números Armstrong hasta n\n",
            "Ingrese un número n: 200\n",
            "Números Armstrong hasta 200: [1, 2, 3, 4, 5, 6, 7, 8, 9, 153]\n"
          ]
        }
      ]
    },
    {
      "cell_type": "code",
      "source": [
        "print(\"reloj digital mostrando horas, minutos y segundos durante un período específico\")\n",
        "!pip install pytz\n",
        "import datetime\n",
        "import pytz\n",
        "import time\n",
        "\n",
        "def reloj_digital_colombia(duracion):\n",
        "    zona_horaria_colombia = pytz.timezone('America/Bogota')\n",
        "\n",
        "    for _ in range(duracion):\n",
        "        ahora = datetime.datetime.now(zona_horaria_colombia)\n",
        "        print(ahora.strftime(\"%H:%M:%S\"))\n",
        "        time.sleep(1)\n",
        "\n",
        "duracion = int(input(\"Ingrese la duración en segundos: \"))\n",
        "reloj_digital_colombia(duracion)"
      ],
      "metadata": {
        "colab": {
          "base_uri": "https://localhost:8080/"
        },
        "id": "wZIcvh_omPIq",
        "outputId": "910147e4-ad96-4057-b345-4c0cb4a66a39"
      },
      "execution_count": null,
      "outputs": [
        {
          "output_type": "stream",
          "name": "stdout",
          "text": [
            "reloj digital mostrando horas, minutos y segundos durante un período específico\n",
            "Requirement already satisfied: pytz in /usr/local/lib/python3.11/dist-packages (2025.1)\n",
            "Ingrese la duración en segundos: 5\n",
            "15:33:32\n",
            "15:33:33\n",
            "15:33:34\n",
            "15:33:35\n",
            "15:33:36\n"
          ]
        }
      ]
    },
    {
      "cell_type": "markdown",
      "source": [
        "Con Operador Terniario ejercicios del 6 al 10"
      ],
      "metadata": {
        "id": "BpRLFwfcr_RI"
      }
    },
    {
      "cell_type": "code",
      "source": [
        "# Solicitar número al usuario\n",
        "numero = int(input(\"Ingrese un número: \"))\n",
        "\n",
        "# Operador ternario para determinar si es par o impar\n",
        "resultado = \"Par\" if numero % 2 == 0 else \"Impar\"\n",
        "print(f\"El número {numero} es {resultado}\")"
      ],
      "metadata": {
        "colab": {
          "base_uri": "https://localhost:8080/"
        },
        "id": "m1s0BnMQsDIr",
        "outputId": "0e5c2485-0575-46a0-c219-7639113b221d"
      },
      "execution_count": null,
      "outputs": [
        {
          "output_type": "stream",
          "name": "stdout",
          "text": [
            "Ingrese un número: 8\n",
            "El número 8 es Par\n"
          ]
        }
      ]
    },
    {
      "cell_type": "code",
      "source": [
        "# Solicitar año al usuario\n",
        "año = int(input(\"Ingrese un año: \"))\n",
        "\n",
        "# Operador ternario para determinar si es bisiesto\n",
        "es_bisiesto = \"Bisiesto\" if (año % 4 == 0 and año % 100 != 0) or (año % 400 == 0) else \"No bisiesto\"\n",
        "print(f\"El año {año} es {es_bisiesto}\")"
      ],
      "metadata": {
        "colab": {
          "base_uri": "https://localhost:8080/"
        },
        "id": "rFgI50rZsJHF",
        "outputId": "2a555f8d-23e9-4755-e119-5900817dfd87"
      },
      "execution_count": null,
      "outputs": [
        {
          "output_type": "stream",
          "name": "stdout",
          "text": [
            "Ingrese un año: 2222\n",
            "El año 2222 es No bisiesto\n"
          ]
        }
      ]
    },
    {
      "cell_type": "code",
      "source": [
        "# Solicitar nombre y edad al usuario\n",
        "nombre = input(\"Ingrese su nombre: \")\n",
        "edad = int(input(\"Ingrese su edad: \"))\n",
        "\n",
        "# Operador ternario para determinar prioridad en la fila\n",
        "prioridad = \"Se le da prioridad en la fila\" if edad >= 70 else \"No tiene prioridad en la fila\"\n",
        "print(f\"{nombre}, {prioridad}\")"
      ],
      "metadata": {
        "colab": {
          "base_uri": "https://localhost:8080/"
        },
        "id": "JAcuspZYsMgC",
        "outputId": "f9821591-f04b-4956-aeb3-43e0ade0ef01"
      },
      "execution_count": null,
      "outputs": [
        {
          "output_type": "stream",
          "name": "stdout",
          "text": [
            "Ingrese su nombre: 1\n",
            "Ingrese su edad: 1\n",
            "1, No tiene prioridad en la fila\n"
          ]
        }
      ]
    },
    {
      "cell_type": "code",
      "source": [
        "# Solicitar tres números al usuario\n",
        "num1 = float(input(\"Ingrese el primer número: \"))\n",
        "num2 = float(input(\"Ingrese el segundo número: \"))\n",
        "num3 = float(input(\"Ingrese el tercer número: \"))\n",
        "\n",
        "# Operador ternario para encontrar el mayor\n",
        "mayor = num1 if num1 > num2 and num1 > num3 else (num2 if num2 > num3 else num3)\n",
        "print(f\"El número mayor es: {mayor}\")"
      ],
      "metadata": {
        "id": "7WVXVha0sShA",
        "outputId": "2ef84a07-f588-42a1-eb82-7fb51ef8fc02",
        "colab": {
          "base_uri": "https://localhost:8080/"
        }
      },
      "execution_count": null,
      "outputs": [
        {
          "output_type": "stream",
          "name": "stdout",
          "text": [
            "Ingrese el primer número: 5\n",
            "Ingrese el segundo número: 2\n",
            "Ingrese el tercer número: 9\n",
            "El número mayor es: 9.0\n"
          ]
        }
      ]
    },
    {
      "cell_type": "code",
      "source": [
        "triangulo = lambda a, b, c: print(f\"{a}, {b}, {c} \" + (\"no forman triángulo\" if not (a+b>c and a+c>b and b+c>a) else f\"forman un triángulo {['Equilátero', 'Isósceles', 'Escaleno'][len(set([a,b,c]))-1]}\"))(3, 3, 3)"
      ],
      "metadata": {
        "id": "hU-xU0BOeomj"
      },
      "execution_count": 1,
      "outputs": []
    },
    {
      "cell_type": "code",
      "source": [
        "tabla = lambda n: print('\\n'.join([f\"{n} x {i} = {n*i}\" for i in range(1,11)]))(5)"
      ],
      "metadata": {
        "id": "IDxbGOL1eorB"
      },
      "execution_count": 8,
      "outputs": []
    },
    {
      "cell_type": "code",
      "source": [
        "suma_n = lambda n: print(sum(range(n+1)))(10)\n",
        "print(suma_n)"
      ],
      "metadata": {
        "id": "KfvwL4cTeout"
      },
      "execution_count": null,
      "outputs": []
    },
    {
      "cell_type": "code",
      "source": [
        "from functools import reduce; factorial = lambda n: print(reduce(lambda x,y: x*y, range(1,n+1),1) if n>=0 else None)(5)"
      ],
      "metadata": {
        "id": "SEjcj6qceoyR"
      },
      "execution_count": 4,
      "outputs": []
    },
    {
      "cell_type": "code",
      "source": [
        "fib = lambda n: print(reduce(lambda x,_: x + [x[-1]+x[-2]], range(n-2), [0,1]) if n>2 else [0]*(n>0) + [1]*(n>1))(10)"
      ],
      "metadata": {
        "id": "pJYDWmfoeo1T"
      },
      "execution_count": 5,
      "outputs": []
    },
    {
      "cell_type": "code",
      "source": [
        "adivina_color = lambda: [print(f\"¿Es {c}?\") or input(\"¿Acerté? (s/n): \")=='s' and exit() for c in [input(f\"Color {i+1}: \") for i in range(10)]]()"
      ],
      "metadata": {
        "id": "4m_LYW-Beo38",
        "colab": {
          "base_uri": "https://localhost:8080/"
        },
        "outputId": "41643306-c9c2-4c72-9daa-4e792bb395bb"
      },
      "execution_count": 6,
      "outputs": [
        {
          "output_type": "stream",
          "name": "stderr",
          "text": [
            "<>:1: SyntaxWarning: 'list' object is not callable; perhaps you missed a comma?\n",
            "<>:1: SyntaxWarning: 'list' object is not callable; perhaps you missed a comma?\n",
            "<ipython-input-6-79fd3a0b242c>:1: SyntaxWarning: 'list' object is not callable; perhaps you missed a comma?\n",
            "  adivina_color = lambda: [print(f\"¿Es {c}?\") or input(\"¿Acerté? (s/n): \")=='s' and exit() for c in [input(f\"Color {i+1}: \") for i in range(10)]]()\n"
          ]
        }
      ]
    },
    {
      "cell_type": "code",
      "source": [
        "pares = lambda: print([i for i in range(2,101,2)])()"
      ],
      "metadata": {
        "id": "wahJqpadeo62"
      },
      "execution_count": null,
      "outputs": []
    },
    {
      "cell_type": "code",
      "source": [
        "suma_digitos = lambda n: print(sum(map(int, str(n))))(123)"
      ],
      "metadata": {
        "id": "2XfirIQ5eo9V"
      },
      "execution_count": null,
      "outputs": []
    },
    {
      "cell_type": "code",
      "source": [
        "primo = lambda n: print(n > 1 and all(n % i != 0 for i in range(2, int(n**0.5)+1)))(17)"
      ],
      "metadata": {
        "id": "e1E1BVtPepAT"
      },
      "execution_count": null,
      "outputs": []
    },
    {
      "cell_type": "code",
      "source": [
        "triangulo_asteriscos = lambda n: print('\\n'.join('*'*i for i in range(1,n+1)))(5)"
      ],
      "metadata": {
        "id": "1Mxj0Xa6epC7"
      },
      "execution_count": null,
      "outputs": []
    },
    {
      "cell_type": "code",
      "source": [
        "potencia = lambda b, e: print(reduce(lambda x,_: x*b, range(e),1))(2,3)"
      ],
      "metadata": {
        "id": "_H3v5hNFepGA"
      },
      "execution_count": null,
      "outputs": []
    },
    {
      "cell_type": "code",
      "source": [
        "tablas = lambda: print('\\n\\n'.join(['\\n'.join(f\"{i} x {j} = {i*j}\" for j in range(1,11)) for i in range(1,11)]))()"
      ],
      "metadata": {
        "id": "ugc1YpoJfOaG"
      },
      "execution_count": null,
      "outputs": []
    },
    {
      "cell_type": "code",
      "source": [
        "perfectos = lambda n: print([x for x in range(1,n+1) if sum([i for i in range(1,x) if x%i==0]) == x])(10000)"
      ],
      "metadata": {
        "id": "hgLOsm2XfOhj"
      },
      "execution_count": null,
      "outputs": []
    },
    {
      "cell_type": "code",
      "source": [
        "diamante = lambda k: print('\\n'.join([' '*(k-i-1)+'*'*(2*i+1) for i in range(k)] + [' '*(k-i-1)+'*'*(2*i+1) for i in range(k-2,-1,-1)]))(5)"
      ],
      "metadata": {
        "id": "Y5kKoAzBfOks"
      },
      "execution_count": null,
      "outputs": []
    },
    {
      "cell_type": "code",
      "source": [
        "armstrong = lambda n: print([x for x in range(1,n+1) if sum(int(d)**len(str(x)) for d in str(x)) == x])(1000)"
      ],
      "metadata": {
        "id": "9rfOoBTjfOng"
      },
      "execution_count": null,
      "outputs": []
    },
    {
      "cell_type": "code",
      "source": [
        "reloj = lambda: [print(f\"{h:02}:{m:02}:{s:02}\") for h in range(24) for m in range(60) for s in range(60)]()"
      ],
      "metadata": {
        "id": "bJCqHta5fOqC"
      },
      "execution_count": null,
      "outputs": []
    },
    {
      "cell_type": "code",
      "source": [],
      "metadata": {
        "id": "ZrlzyvTtfOsi"
      },
      "execution_count": null,
      "outputs": []
    }
  ]
}